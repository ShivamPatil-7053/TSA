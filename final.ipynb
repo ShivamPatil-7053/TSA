{
 "cells": [
  {
   "cell_type": "markdown",
   "metadata": {},
   "source": [
    "# importing and performing eda on data"
   ]
  },
  {
   "cell_type": "code",
   "execution_count": 1,
   "metadata": {},
   "outputs": [],
   "source": [
    "import pandas as pd \n",
    "import numpy as np  "
   ]
  },
  {
   "cell_type": "code",
   "execution_count": 2,
   "metadata": {},
   "outputs": [],
   "source": [
    "df = pd.read_csv('activity.csv')"
   ]
  },
  {
   "cell_type": "code",
   "execution_count": 3,
   "metadata": {},
   "outputs": [
    {
     "data": {
      "text/html": [
       "<div>\n",
       "<style scoped>\n",
       "    .dataframe tbody tr th:only-of-type {\n",
       "        vertical-align: middle;\n",
       "    }\n",
       "\n",
       "    .dataframe tbody tr th {\n",
       "        vertical-align: top;\n",
       "    }\n",
       "\n",
       "    .dataframe thead th {\n",
       "        text-align: right;\n",
       "    }\n",
       "</style>\n",
       "<table border=\"1\" class=\"dataframe\">\n",
       "  <thead>\n",
       "    <tr style=\"text-align: right;\">\n",
       "      <th></th>\n",
       "      <th>App name</th>\n",
       "      <th>Date</th>\n",
       "      <th>Time</th>\n",
       "      <th>Duration</th>\n",
       "    </tr>\n",
       "  </thead>\n",
       "  <tbody>\n",
       "    <tr>\n",
       "      <th>0</th>\n",
       "      <td>App Usage</td>\n",
       "      <td>18/03/2024</td>\n",
       "      <td>2:54:16 pm</td>\n",
       "      <td>0:00:01</td>\n",
       "    </tr>\n",
       "    <tr>\n",
       "      <th>1</th>\n",
       "      <td>WhatsApp</td>\n",
       "      <td>18/03/2024</td>\n",
       "      <td>2:54:04 pm</td>\n",
       "      <td>0:00:11</td>\n",
       "    </tr>\n",
       "    <tr>\n",
       "      <th>2</th>\n",
       "      <td>App Usage</td>\n",
       "      <td>18/03/2024</td>\n",
       "      <td>2:52:58 pm</td>\n",
       "      <td>0:00:59</td>\n",
       "    </tr>\n",
       "    <tr>\n",
       "      <th>3</th>\n",
       "      <td>Activity history enabled</td>\n",
       "      <td>18/03/2024</td>\n",
       "      <td>2:52:58 pm</td>\n",
       "      <td>0:00:00</td>\n",
       "    </tr>\n",
       "    <tr>\n",
       "      <th>4</th>\n",
       "      <td>App Usage</td>\n",
       "      <td>18/03/2024</td>\n",
       "      <td>2:52:09 pm</td>\n",
       "      <td>0:00:00</td>\n",
       "    </tr>\n",
       "  </tbody>\n",
       "</table>\n",
       "</div>"
      ],
      "text/plain": [
       "                   App name        Date        Time Duration\n",
       "0                 App Usage  18/03/2024  2:54:16 pm  0:00:01\n",
       "1                  WhatsApp  18/03/2024  2:54:04 pm  0:00:11\n",
       "2                 App Usage  18/03/2024  2:52:58 pm  0:00:59\n",
       "3  Activity history enabled  18/03/2024  2:52:58 pm  0:00:00\n",
       "4                 App Usage  18/03/2024  2:52:09 pm  0:00:00"
      ]
     },
     "execution_count": 3,
     "metadata": {},
     "output_type": "execute_result"
    }
   ],
   "source": [
    "df.head(5)"
   ]
  },
  {
   "cell_type": "code",
   "execution_count": 4,
   "metadata": {},
   "outputs": [],
   "source": [
    "df['DateTime'] = df['Date'] + ' ' + df['Time']"
   ]
  },
  {
   "cell_type": "code",
   "execution_count": 5,
   "metadata": {},
   "outputs": [
    {
     "data": {
      "text/html": [
       "<div>\n",
       "<style scoped>\n",
       "    .dataframe tbody tr th:only-of-type {\n",
       "        vertical-align: middle;\n",
       "    }\n",
       "\n",
       "    .dataframe tbody tr th {\n",
       "        vertical-align: top;\n",
       "    }\n",
       "\n",
       "    .dataframe thead th {\n",
       "        text-align: right;\n",
       "    }\n",
       "</style>\n",
       "<table border=\"1\" class=\"dataframe\">\n",
       "  <thead>\n",
       "    <tr style=\"text-align: right;\">\n",
       "      <th></th>\n",
       "      <th>App name</th>\n",
       "      <th>Date</th>\n",
       "      <th>Time</th>\n",
       "      <th>Duration</th>\n",
       "      <th>DateTime</th>\n",
       "    </tr>\n",
       "  </thead>\n",
       "  <tbody>\n",
       "    <tr>\n",
       "      <th>0</th>\n",
       "      <td>App Usage</td>\n",
       "      <td>18/03/2024</td>\n",
       "      <td>2:54:16 pm</td>\n",
       "      <td>0:00:01</td>\n",
       "      <td>18/03/2024 2:54:16 pm</td>\n",
       "    </tr>\n",
       "    <tr>\n",
       "      <th>1</th>\n",
       "      <td>WhatsApp</td>\n",
       "      <td>18/03/2024</td>\n",
       "      <td>2:54:04 pm</td>\n",
       "      <td>0:00:11</td>\n",
       "      <td>18/03/2024 2:54:04 pm</td>\n",
       "    </tr>\n",
       "    <tr>\n",
       "      <th>2</th>\n",
       "      <td>App Usage</td>\n",
       "      <td>18/03/2024</td>\n",
       "      <td>2:52:58 pm</td>\n",
       "      <td>0:00:59</td>\n",
       "      <td>18/03/2024 2:52:58 pm</td>\n",
       "    </tr>\n",
       "    <tr>\n",
       "      <th>3</th>\n",
       "      <td>Activity history enabled</td>\n",
       "      <td>18/03/2024</td>\n",
       "      <td>2:52:58 pm</td>\n",
       "      <td>0:00:00</td>\n",
       "      <td>18/03/2024 2:52:58 pm</td>\n",
       "    </tr>\n",
       "    <tr>\n",
       "      <th>4</th>\n",
       "      <td>App Usage</td>\n",
       "      <td>18/03/2024</td>\n",
       "      <td>2:52:09 pm</td>\n",
       "      <td>0:00:00</td>\n",
       "      <td>18/03/2024 2:52:09 pm</td>\n",
       "    </tr>\n",
       "    <tr>\n",
       "      <th>5</th>\n",
       "      <td>App Usage</td>\n",
       "      <td>18/03/2024</td>\n",
       "      <td>2:52:07 pm</td>\n",
       "      <td>0:00:01</td>\n",
       "      <td>18/03/2024 2:52:07 pm</td>\n",
       "    </tr>\n",
       "    <tr>\n",
       "      <th>6</th>\n",
       "      <td>App Usage</td>\n",
       "      <td>18/03/2024</td>\n",
       "      <td>2:51:57 pm</td>\n",
       "      <td>0:00:06</td>\n",
       "      <td>18/03/2024 2:51:57 pm</td>\n",
       "    </tr>\n",
       "    <tr>\n",
       "      <th>7</th>\n",
       "      <td>Package installer</td>\n",
       "      <td>18/03/2024</td>\n",
       "      <td>2:50:47 pm</td>\n",
       "      <td>0:01:09</td>\n",
       "      <td>18/03/2024 2:50:47 pm</td>\n",
       "    </tr>\n",
       "    <tr>\n",
       "      <th>8</th>\n",
       "      <td>WhatsApp</td>\n",
       "      <td>18/03/2024</td>\n",
       "      <td>2:50:45 pm</td>\n",
       "      <td>0:00:02</td>\n",
       "      <td>18/03/2024 2:50:45 pm</td>\n",
       "    </tr>\n",
       "    <tr>\n",
       "      <th>9</th>\n",
       "      <td>Package installer</td>\n",
       "      <td>18/03/2024</td>\n",
       "      <td>2:50:45 pm</td>\n",
       "      <td>0:00:00</td>\n",
       "      <td>18/03/2024 2:50:45 pm</td>\n",
       "    </tr>\n",
       "  </tbody>\n",
       "</table>\n",
       "</div>"
      ],
      "text/plain": [
       "                   App name        Date        Time Duration  \\\n",
       "0                 App Usage  18/03/2024  2:54:16 pm  0:00:01   \n",
       "1                  WhatsApp  18/03/2024  2:54:04 pm  0:00:11   \n",
       "2                 App Usage  18/03/2024  2:52:58 pm  0:00:59   \n",
       "3  Activity history enabled  18/03/2024  2:52:58 pm  0:00:00   \n",
       "4                 App Usage  18/03/2024  2:52:09 pm  0:00:00   \n",
       "5                 App Usage  18/03/2024  2:52:07 pm  0:00:01   \n",
       "6                 App Usage  18/03/2024  2:51:57 pm  0:00:06   \n",
       "7         Package installer  18/03/2024  2:50:47 pm  0:01:09   \n",
       "8                  WhatsApp  18/03/2024  2:50:45 pm  0:00:02   \n",
       "9         Package installer  18/03/2024  2:50:45 pm  0:00:00   \n",
       "\n",
       "                DateTime  \n",
       "0  18/03/2024 2:54:16 pm  \n",
       "1  18/03/2024 2:54:04 pm  \n",
       "2  18/03/2024 2:52:58 pm  \n",
       "3  18/03/2024 2:52:58 pm  \n",
       "4  18/03/2024 2:52:09 pm  \n",
       "5  18/03/2024 2:52:07 pm  \n",
       "6  18/03/2024 2:51:57 pm  \n",
       "7  18/03/2024 2:50:47 pm  \n",
       "8  18/03/2024 2:50:45 pm  \n",
       "9  18/03/2024 2:50:45 pm  "
      ]
     },
     "execution_count": 5,
     "metadata": {},
     "output_type": "execute_result"
    }
   ],
   "source": [
    "df.head(10)"
   ]
  },
  {
   "cell_type": "code",
   "execution_count": 6,
   "metadata": {},
   "outputs": [],
   "source": [
    "df['Date'] = pd.to_datetime(df.Date,dayfirst=True)"
   ]
  },
  {
   "cell_type": "code",
   "execution_count": 7,
   "metadata": {},
   "outputs": [],
   "source": [
    "df['DateTime'] = pd.to_datetime(df.DateTime,dayfirst=True)"
   ]
  },
  {
   "cell_type": "code",
   "execution_count": 8,
   "metadata": {},
   "outputs": [],
   "source": [
    "df['Duration'] = pd.to_timedelta(df['Duration'])"
   ]
  },
  {
   "cell_type": "code",
   "execution_count": 9,
   "metadata": {},
   "outputs": [
    {
     "name": "stdout",
     "output_type": "stream",
     "text": [
      "<class 'pandas.core.frame.DataFrame'>\n",
      "RangeIndex: 5685 entries, 0 to 5684\n",
      "Data columns (total 5 columns):\n",
      " #   Column    Non-Null Count  Dtype          \n",
      "---  ------    --------------  -----          \n",
      " 0   App name  5684 non-null   object         \n",
      " 1   Date      5682 non-null   datetime64[ns] \n",
      " 2   Time      5682 non-null   object         \n",
      " 3   Duration  5682 non-null   timedelta64[ns]\n",
      " 4   DateTime  5682 non-null   datetime64[ns] \n",
      "dtypes: datetime64[ns](2), object(2), timedelta64[ns](1)\n",
      "memory usage: 222.2+ KB\n"
     ]
    }
   ],
   "source": [
    "df.info()"
   ]
  },
  {
   "cell_type": "code",
   "execution_count": 10,
   "metadata": {},
   "outputs": [
    {
     "data": {
      "text/plain": [
       "69.0"
      ]
     },
     "execution_count": 10,
     "metadata": {},
     "output_type": "execute_result"
    }
   ],
   "source": [
    "# learned how to get total seconds from timedelta dtype\n",
    "df['Duration'][7].total_seconds()"
   ]
  },
  {
   "cell_type": "code",
   "execution_count": 11,
   "metadata": {},
   "outputs": [],
   "source": [
    "df['total_seconds'] = df['Duration'].dt.total_seconds()"
   ]
  },
  {
   "cell_type": "code",
   "execution_count": 12,
   "metadata": {},
   "outputs": [
    {
     "data": {
      "text/html": [
       "<div>\n",
       "<style scoped>\n",
       "    .dataframe tbody tr th:only-of-type {\n",
       "        vertical-align: middle;\n",
       "    }\n",
       "\n",
       "    .dataframe tbody tr th {\n",
       "        vertical-align: top;\n",
       "    }\n",
       "\n",
       "    .dataframe thead th {\n",
       "        text-align: right;\n",
       "    }\n",
       "</style>\n",
       "<table border=\"1\" class=\"dataframe\">\n",
       "  <thead>\n",
       "    <tr style=\"text-align: right;\">\n",
       "      <th></th>\n",
       "      <th>App name</th>\n",
       "      <th>Date</th>\n",
       "      <th>Time</th>\n",
       "      <th>Duration</th>\n",
       "      <th>DateTime</th>\n",
       "      <th>total_seconds</th>\n",
       "    </tr>\n",
       "  </thead>\n",
       "  <tbody>\n",
       "    <tr>\n",
       "      <th>0</th>\n",
       "      <td>App Usage</td>\n",
       "      <td>2024-03-18</td>\n",
       "      <td>2:54:16 pm</td>\n",
       "      <td>0 days 00:00:01</td>\n",
       "      <td>2024-03-18 14:54:16</td>\n",
       "      <td>1.0</td>\n",
       "    </tr>\n",
       "    <tr>\n",
       "      <th>1</th>\n",
       "      <td>WhatsApp</td>\n",
       "      <td>2024-03-18</td>\n",
       "      <td>2:54:04 pm</td>\n",
       "      <td>0 days 00:00:11</td>\n",
       "      <td>2024-03-18 14:54:04</td>\n",
       "      <td>11.0</td>\n",
       "    </tr>\n",
       "    <tr>\n",
       "      <th>2</th>\n",
       "      <td>App Usage</td>\n",
       "      <td>2024-03-18</td>\n",
       "      <td>2:52:58 pm</td>\n",
       "      <td>0 days 00:00:59</td>\n",
       "      <td>2024-03-18 14:52:58</td>\n",
       "      <td>59.0</td>\n",
       "    </tr>\n",
       "    <tr>\n",
       "      <th>3</th>\n",
       "      <td>Activity history enabled</td>\n",
       "      <td>2024-03-18</td>\n",
       "      <td>2:52:58 pm</td>\n",
       "      <td>0 days 00:00:00</td>\n",
       "      <td>2024-03-18 14:52:58</td>\n",
       "      <td>0.0</td>\n",
       "    </tr>\n",
       "    <tr>\n",
       "      <th>4</th>\n",
       "      <td>App Usage</td>\n",
       "      <td>2024-03-18</td>\n",
       "      <td>2:52:09 pm</td>\n",
       "      <td>0 days 00:00:00</td>\n",
       "      <td>2024-03-18 14:52:09</td>\n",
       "      <td>0.0</td>\n",
       "    </tr>\n",
       "    <tr>\n",
       "      <th>5</th>\n",
       "      <td>App Usage</td>\n",
       "      <td>2024-03-18</td>\n",
       "      <td>2:52:07 pm</td>\n",
       "      <td>0 days 00:00:01</td>\n",
       "      <td>2024-03-18 14:52:07</td>\n",
       "      <td>1.0</td>\n",
       "    </tr>\n",
       "    <tr>\n",
       "      <th>6</th>\n",
       "      <td>App Usage</td>\n",
       "      <td>2024-03-18</td>\n",
       "      <td>2:51:57 pm</td>\n",
       "      <td>0 days 00:00:06</td>\n",
       "      <td>2024-03-18 14:51:57</td>\n",
       "      <td>6.0</td>\n",
       "    </tr>\n",
       "    <tr>\n",
       "      <th>7</th>\n",
       "      <td>Package installer</td>\n",
       "      <td>2024-03-18</td>\n",
       "      <td>2:50:47 pm</td>\n",
       "      <td>0 days 00:01:09</td>\n",
       "      <td>2024-03-18 14:50:47</td>\n",
       "      <td>69.0</td>\n",
       "    </tr>\n",
       "    <tr>\n",
       "      <th>8</th>\n",
       "      <td>WhatsApp</td>\n",
       "      <td>2024-03-18</td>\n",
       "      <td>2:50:45 pm</td>\n",
       "      <td>0 days 00:00:02</td>\n",
       "      <td>2024-03-18 14:50:45</td>\n",
       "      <td>2.0</td>\n",
       "    </tr>\n",
       "    <tr>\n",
       "      <th>9</th>\n",
       "      <td>Package installer</td>\n",
       "      <td>2024-03-18</td>\n",
       "      <td>2:50:45 pm</td>\n",
       "      <td>0 days 00:00:00</td>\n",
       "      <td>2024-03-18 14:50:45</td>\n",
       "      <td>0.0</td>\n",
       "    </tr>\n",
       "  </tbody>\n",
       "</table>\n",
       "</div>"
      ],
      "text/plain": [
       "                   App name       Date        Time        Duration  \\\n",
       "0                 App Usage 2024-03-18  2:54:16 pm 0 days 00:00:01   \n",
       "1                  WhatsApp 2024-03-18  2:54:04 pm 0 days 00:00:11   \n",
       "2                 App Usage 2024-03-18  2:52:58 pm 0 days 00:00:59   \n",
       "3  Activity history enabled 2024-03-18  2:52:58 pm 0 days 00:00:00   \n",
       "4                 App Usage 2024-03-18  2:52:09 pm 0 days 00:00:00   \n",
       "5                 App Usage 2024-03-18  2:52:07 pm 0 days 00:00:01   \n",
       "6                 App Usage 2024-03-18  2:51:57 pm 0 days 00:00:06   \n",
       "7         Package installer 2024-03-18  2:50:47 pm 0 days 00:01:09   \n",
       "8                  WhatsApp 2024-03-18  2:50:45 pm 0 days 00:00:02   \n",
       "9         Package installer 2024-03-18  2:50:45 pm 0 days 00:00:00   \n",
       "\n",
       "             DateTime  total_seconds  \n",
       "0 2024-03-18 14:54:16            1.0  \n",
       "1 2024-03-18 14:54:04           11.0  \n",
       "2 2024-03-18 14:52:58           59.0  \n",
       "3 2024-03-18 14:52:58            0.0  \n",
       "4 2024-03-18 14:52:09            0.0  \n",
       "5 2024-03-18 14:52:07            1.0  \n",
       "6 2024-03-18 14:51:57            6.0  \n",
       "7 2024-03-18 14:50:47           69.0  \n",
       "8 2024-03-18 14:50:45            2.0  \n",
       "9 2024-03-18 14:50:45            0.0  "
      ]
     },
     "execution_count": 12,
     "metadata": {},
     "output_type": "execute_result"
    }
   ],
   "source": [
    "df.head(10)"
   ]
  },
  {
   "cell_type": "code",
   "execution_count": 13,
   "metadata": {},
   "outputs": [
    {
     "name": "stdout",
     "output_type": "stream",
     "text": [
      "<class 'pandas.core.frame.DataFrame'>\n",
      "RangeIndex: 5685 entries, 0 to 5684\n",
      "Data columns (total 6 columns):\n",
      " #   Column         Non-Null Count  Dtype          \n",
      "---  ------         --------------  -----          \n",
      " 0   App name       5684 non-null   object         \n",
      " 1   Date           5682 non-null   datetime64[ns] \n",
      " 2   Time           5682 non-null   object         \n",
      " 3   Duration       5682 non-null   timedelta64[ns]\n",
      " 4   DateTime       5682 non-null   datetime64[ns] \n",
      " 5   total_seconds  5682 non-null   float64        \n",
      "dtypes: datetime64[ns](2), float64(1), object(2), timedelta64[ns](1)\n",
      "memory usage: 266.6+ KB\n"
     ]
    }
   ],
   "source": [
    "df.info()"
   ]
  },
  {
   "cell_type": "code",
   "execution_count": 14,
   "metadata": {},
   "outputs": [],
   "source": [
    "# total seconds in float but we dont need float thats why convert it t int\n",
    "#df['total_seconds'] = df['total_seconds'].astype(int)\n"
   ]
  },
  {
   "cell_type": "code",
   "execution_count": 15,
   "metadata": {},
   "outputs": [
    {
     "data": {
      "text/plain": [
       "App name         0.01759\n",
       "Date             0.05277\n",
       "Time             0.05277\n",
       "Duration         0.05277\n",
       "DateTime         0.05277\n",
       "total_seconds    0.05277\n",
       "dtype: float64"
      ]
     },
     "execution_count": 15,
     "metadata": {},
     "output_type": "execute_result"
    }
   ],
   "source": [
    "# there are na values present in my data lets deal with them\n",
    "df.isnull().mean()*100"
   ]
  },
  {
   "cell_type": "code",
   "execution_count": 16,
   "metadata": {},
   "outputs": [],
   "source": [
    "# we can see that missing data is very small (<5%) thats why we can perform cca complete case analysis\n",
    "df.dropna(inplace=True)"
   ]
  },
  {
   "cell_type": "code",
   "execution_count": 17,
   "metadata": {},
   "outputs": [],
   "source": [
    "# total seconds in float but we dont need float thats why convert it t int\n",
    "df['total_seconds'] = df['total_seconds'].astype(int)"
   ]
  },
  {
   "cell_type": "code",
   "execution_count": 18,
   "metadata": {},
   "outputs": [
    {
     "data": {
      "text/html": [
       "<div>\n",
       "<style scoped>\n",
       "    .dataframe tbody tr th:only-of-type {\n",
       "        vertical-align: middle;\n",
       "    }\n",
       "\n",
       "    .dataframe tbody tr th {\n",
       "        vertical-align: top;\n",
       "    }\n",
       "\n",
       "    .dataframe thead th {\n",
       "        text-align: right;\n",
       "    }\n",
       "</style>\n",
       "<table border=\"1\" class=\"dataframe\">\n",
       "  <thead>\n",
       "    <tr style=\"text-align: right;\">\n",
       "      <th></th>\n",
       "      <th>App name</th>\n",
       "      <th>Date</th>\n",
       "      <th>Time</th>\n",
       "      <th>Duration</th>\n",
       "      <th>DateTime</th>\n",
       "      <th>total_seconds</th>\n",
       "    </tr>\n",
       "  </thead>\n",
       "  <tbody>\n",
       "    <tr>\n",
       "      <th>0</th>\n",
       "      <td>App Usage</td>\n",
       "      <td>2024-03-18</td>\n",
       "      <td>2:54:16 pm</td>\n",
       "      <td>0 days 00:00:01</td>\n",
       "      <td>2024-03-18 14:54:16</td>\n",
       "      <td>1</td>\n",
       "    </tr>\n",
       "    <tr>\n",
       "      <th>1</th>\n",
       "      <td>WhatsApp</td>\n",
       "      <td>2024-03-18</td>\n",
       "      <td>2:54:04 pm</td>\n",
       "      <td>0 days 00:00:11</td>\n",
       "      <td>2024-03-18 14:54:04</td>\n",
       "      <td>11</td>\n",
       "    </tr>\n",
       "    <tr>\n",
       "      <th>2</th>\n",
       "      <td>App Usage</td>\n",
       "      <td>2024-03-18</td>\n",
       "      <td>2:52:58 pm</td>\n",
       "      <td>0 days 00:00:59</td>\n",
       "      <td>2024-03-18 14:52:58</td>\n",
       "      <td>59</td>\n",
       "    </tr>\n",
       "    <tr>\n",
       "      <th>3</th>\n",
       "      <td>Activity history enabled</td>\n",
       "      <td>2024-03-18</td>\n",
       "      <td>2:52:58 pm</td>\n",
       "      <td>0 days 00:00:00</td>\n",
       "      <td>2024-03-18 14:52:58</td>\n",
       "      <td>0</td>\n",
       "    </tr>\n",
       "    <tr>\n",
       "      <th>4</th>\n",
       "      <td>App Usage</td>\n",
       "      <td>2024-03-18</td>\n",
       "      <td>2:52:09 pm</td>\n",
       "      <td>0 days 00:00:00</td>\n",
       "      <td>2024-03-18 14:52:09</td>\n",
       "      <td>0</td>\n",
       "    </tr>\n",
       "  </tbody>\n",
       "</table>\n",
       "</div>"
      ],
      "text/plain": [
       "                   App name       Date        Time        Duration  \\\n",
       "0                 App Usage 2024-03-18  2:54:16 pm 0 days 00:00:01   \n",
       "1                  WhatsApp 2024-03-18  2:54:04 pm 0 days 00:00:11   \n",
       "2                 App Usage 2024-03-18  2:52:58 pm 0 days 00:00:59   \n",
       "3  Activity history enabled 2024-03-18  2:52:58 pm 0 days 00:00:00   \n",
       "4                 App Usage 2024-03-18  2:52:09 pm 0 days 00:00:00   \n",
       "\n",
       "             DateTime  total_seconds  \n",
       "0 2024-03-18 14:54:16              1  \n",
       "1 2024-03-18 14:54:04             11  \n",
       "2 2024-03-18 14:52:58             59  \n",
       "3 2024-03-18 14:52:58              0  \n",
       "4 2024-03-18 14:52:09              0  "
      ]
     },
     "execution_count": 18,
     "metadata": {},
     "output_type": "execute_result"
    }
   ],
   "source": [
    "df.head(5)"
   ]
  },
  {
   "cell_type": "code",
   "execution_count": 61,
   "metadata": {},
   "outputs": [],
   "source": [
    "# Specify the path where you want to save the file\n",
    "file_path = 'cleaned.csv'\n",
    "\n",
    "# Save the DataFrame to a CSV file\n",
    "df.to_csv(file_path, index=False)"
   ]
  },
  {
   "cell_type": "code",
   "execution_count": 19,
   "metadata": {},
   "outputs": [
    {
     "name": "stdout",
     "output_type": "stream",
     "text": [
      "<class 'pandas.core.frame.DataFrame'>\n",
      "Int64Index: 5682 entries, 0 to 5681\n",
      "Data columns (total 6 columns):\n",
      " #   Column         Non-Null Count  Dtype          \n",
      "---  ------         --------------  -----          \n",
      " 0   App name       5682 non-null   object         \n",
      " 1   Date           5682 non-null   datetime64[ns] \n",
      " 2   Time           5682 non-null   object         \n",
      " 3   Duration       5682 non-null   timedelta64[ns]\n",
      " 4   DateTime       5682 non-null   datetime64[ns] \n",
      " 5   total_seconds  5682 non-null   int32          \n",
      "dtypes: datetime64[ns](2), int32(1), object(2), timedelta64[ns](1)\n",
      "memory usage: 288.5+ KB\n"
     ]
    }
   ],
   "source": [
    "df.info()"
   ]
  },
  {
   "cell_type": "code",
   "execution_count": 20,
   "metadata": {},
   "outputs": [],
   "source": [
    "# we will also need day of the day of week eg son mon \n",
    "df['day_of_week'] = df['Date'].dt.day_name()"
   ]
  },
  {
   "cell_type": "code",
   "execution_count": 21,
   "metadata": {},
   "outputs": [
    {
     "data": {
      "text/html": [
       "<div>\n",
       "<style scoped>\n",
       "    .dataframe tbody tr th:only-of-type {\n",
       "        vertical-align: middle;\n",
       "    }\n",
       "\n",
       "    .dataframe tbody tr th {\n",
       "        vertical-align: top;\n",
       "    }\n",
       "\n",
       "    .dataframe thead th {\n",
       "        text-align: right;\n",
       "    }\n",
       "</style>\n",
       "<table border=\"1\" class=\"dataframe\">\n",
       "  <thead>\n",
       "    <tr style=\"text-align: right;\">\n",
       "      <th></th>\n",
       "      <th>App name</th>\n",
       "      <th>Date</th>\n",
       "      <th>Time</th>\n",
       "      <th>Duration</th>\n",
       "      <th>DateTime</th>\n",
       "      <th>total_seconds</th>\n",
       "      <th>day_of_week</th>\n",
       "    </tr>\n",
       "  </thead>\n",
       "  <tbody>\n",
       "    <tr>\n",
       "      <th>0</th>\n",
       "      <td>App Usage</td>\n",
       "      <td>2024-03-18</td>\n",
       "      <td>2:54:16 pm</td>\n",
       "      <td>0 days 00:00:01</td>\n",
       "      <td>2024-03-18 14:54:16</td>\n",
       "      <td>1</td>\n",
       "      <td>Monday</td>\n",
       "    </tr>\n",
       "    <tr>\n",
       "      <th>1</th>\n",
       "      <td>WhatsApp</td>\n",
       "      <td>2024-03-18</td>\n",
       "      <td>2:54:04 pm</td>\n",
       "      <td>0 days 00:00:11</td>\n",
       "      <td>2024-03-18 14:54:04</td>\n",
       "      <td>11</td>\n",
       "      <td>Monday</td>\n",
       "    </tr>\n",
       "    <tr>\n",
       "      <th>2</th>\n",
       "      <td>App Usage</td>\n",
       "      <td>2024-03-18</td>\n",
       "      <td>2:52:58 pm</td>\n",
       "      <td>0 days 00:00:59</td>\n",
       "      <td>2024-03-18 14:52:58</td>\n",
       "      <td>59</td>\n",
       "      <td>Monday</td>\n",
       "    </tr>\n",
       "    <tr>\n",
       "      <th>3</th>\n",
       "      <td>Activity history enabled</td>\n",
       "      <td>2024-03-18</td>\n",
       "      <td>2:52:58 pm</td>\n",
       "      <td>0 days 00:00:00</td>\n",
       "      <td>2024-03-18 14:52:58</td>\n",
       "      <td>0</td>\n",
       "      <td>Monday</td>\n",
       "    </tr>\n",
       "    <tr>\n",
       "      <th>4</th>\n",
       "      <td>App Usage</td>\n",
       "      <td>2024-03-18</td>\n",
       "      <td>2:52:09 pm</td>\n",
       "      <td>0 days 00:00:00</td>\n",
       "      <td>2024-03-18 14:52:09</td>\n",
       "      <td>0</td>\n",
       "      <td>Monday</td>\n",
       "    </tr>\n",
       "    <tr>\n",
       "      <th>...</th>\n",
       "      <td>...</td>\n",
       "      <td>...</td>\n",
       "      <td>...</td>\n",
       "      <td>...</td>\n",
       "      <td>...</td>\n",
       "      <td>...</td>\n",
       "      <td>...</td>\n",
       "    </tr>\n",
       "    <tr>\n",
       "      <th>5677</th>\n",
       "      <td>WhatsApp</td>\n",
       "      <td>2024-03-08</td>\n",
       "      <td>10:18:52 pm</td>\n",
       "      <td>0 days 00:02:09</td>\n",
       "      <td>2024-03-08 22:18:52</td>\n",
       "      <td>129</td>\n",
       "      <td>Friday</td>\n",
       "    </tr>\n",
       "    <tr>\n",
       "      <th>5678</th>\n",
       "      <td>Screen on (unlocked)</td>\n",
       "      <td>2024-03-08</td>\n",
       "      <td>10:18:48 pm</td>\n",
       "      <td>0 days 00:00:01</td>\n",
       "      <td>2024-03-08 22:18:48</td>\n",
       "      <td>1</td>\n",
       "      <td>Friday</td>\n",
       "    </tr>\n",
       "    <tr>\n",
       "      <th>5679</th>\n",
       "      <td>Screen off (locked)</td>\n",
       "      <td>2024-03-08</td>\n",
       "      <td>10:17:10 pm</td>\n",
       "      <td>0 days 00:01:38</td>\n",
       "      <td>2024-03-08 22:17:10</td>\n",
       "      <td>98</td>\n",
       "      <td>Friday</td>\n",
       "    </tr>\n",
       "    <tr>\n",
       "      <th>5680</th>\n",
       "      <td>Calendar</td>\n",
       "      <td>2024-03-08</td>\n",
       "      <td>10:17:04 pm</td>\n",
       "      <td>0 days 00:00:04</td>\n",
       "      <td>2024-03-08 22:17:04</td>\n",
       "      <td>4</td>\n",
       "      <td>Friday</td>\n",
       "    </tr>\n",
       "    <tr>\n",
       "      <th>5681</th>\n",
       "      <td>Calendar</td>\n",
       "      <td>2024-03-08</td>\n",
       "      <td>10:16:55 pm</td>\n",
       "      <td>0 days 00:00:07</td>\n",
       "      <td>2024-03-08 22:16:55</td>\n",
       "      <td>7</td>\n",
       "      <td>Friday</td>\n",
       "    </tr>\n",
       "  </tbody>\n",
       "</table>\n",
       "<p>5682 rows × 7 columns</p>\n",
       "</div>"
      ],
      "text/plain": [
       "                      App name       Date         Time        Duration  \\\n",
       "0                    App Usage 2024-03-18   2:54:16 pm 0 days 00:00:01   \n",
       "1                     WhatsApp 2024-03-18   2:54:04 pm 0 days 00:00:11   \n",
       "2                    App Usage 2024-03-18   2:52:58 pm 0 days 00:00:59   \n",
       "3     Activity history enabled 2024-03-18   2:52:58 pm 0 days 00:00:00   \n",
       "4                    App Usage 2024-03-18   2:52:09 pm 0 days 00:00:00   \n",
       "...                        ...        ...          ...             ...   \n",
       "5677                  WhatsApp 2024-03-08  10:18:52 pm 0 days 00:02:09   \n",
       "5678      Screen on (unlocked) 2024-03-08  10:18:48 pm 0 days 00:00:01   \n",
       "5679       Screen off (locked) 2024-03-08  10:17:10 pm 0 days 00:01:38   \n",
       "5680                  Calendar 2024-03-08  10:17:04 pm 0 days 00:00:04   \n",
       "5681                  Calendar 2024-03-08  10:16:55 pm 0 days 00:00:07   \n",
       "\n",
       "                DateTime  total_seconds day_of_week  \n",
       "0    2024-03-18 14:54:16              1      Monday  \n",
       "1    2024-03-18 14:54:04             11      Monday  \n",
       "2    2024-03-18 14:52:58             59      Monday  \n",
       "3    2024-03-18 14:52:58              0      Monday  \n",
       "4    2024-03-18 14:52:09              0      Monday  \n",
       "...                  ...            ...         ...  \n",
       "5677 2024-03-08 22:18:52            129      Friday  \n",
       "5678 2024-03-08 22:18:48              1      Friday  \n",
       "5679 2024-03-08 22:17:10             98      Friday  \n",
       "5680 2024-03-08 22:17:04              4      Friday  \n",
       "5681 2024-03-08 22:16:55              7      Friday  \n",
       "\n",
       "[5682 rows x 7 columns]"
      ]
     },
     "execution_count": 21,
     "metadata": {},
     "output_type": "execute_result"
    }
   ],
   "source": [
    "df"
   ]
  },
  {
   "cell_type": "code",
   "execution_count": 22,
   "metadata": {},
   "outputs": [],
   "source": [
    "# we dont need all colums for analysis so lets create dataset with imp columns\n",
    "selected_columns = ['App name', 'Date','DateTime','total_seconds','day_of_week']\n",
    "ref = df[selected_columns].copy()"
   ]
  },
  {
   "cell_type": "code",
   "execution_count": 23,
   "metadata": {},
   "outputs": [
    {
     "data": {
      "text/html": [
       "<div>\n",
       "<style scoped>\n",
       "    .dataframe tbody tr th:only-of-type {\n",
       "        vertical-align: middle;\n",
       "    }\n",
       "\n",
       "    .dataframe tbody tr th {\n",
       "        vertical-align: top;\n",
       "    }\n",
       "\n",
       "    .dataframe thead th {\n",
       "        text-align: right;\n",
       "    }\n",
       "</style>\n",
       "<table border=\"1\" class=\"dataframe\">\n",
       "  <thead>\n",
       "    <tr style=\"text-align: right;\">\n",
       "      <th></th>\n",
       "      <th>App name</th>\n",
       "      <th>Date</th>\n",
       "      <th>DateTime</th>\n",
       "      <th>Time_spent_insec</th>\n",
       "      <th>day_of_week</th>\n",
       "    </tr>\n",
       "  </thead>\n",
       "  <tbody>\n",
       "    <tr>\n",
       "      <th>0</th>\n",
       "      <td>App Usage</td>\n",
       "      <td>2024-03-18</td>\n",
       "      <td>2024-03-18 14:54:16</td>\n",
       "      <td>1</td>\n",
       "      <td>Monday</td>\n",
       "    </tr>\n",
       "    <tr>\n",
       "      <th>1</th>\n",
       "      <td>WhatsApp</td>\n",
       "      <td>2024-03-18</td>\n",
       "      <td>2024-03-18 14:54:04</td>\n",
       "      <td>11</td>\n",
       "      <td>Monday</td>\n",
       "    </tr>\n",
       "    <tr>\n",
       "      <th>2</th>\n",
       "      <td>App Usage</td>\n",
       "      <td>2024-03-18</td>\n",
       "      <td>2024-03-18 14:52:58</td>\n",
       "      <td>59</td>\n",
       "      <td>Monday</td>\n",
       "    </tr>\n",
       "    <tr>\n",
       "      <th>3</th>\n",
       "      <td>Activity history enabled</td>\n",
       "      <td>2024-03-18</td>\n",
       "      <td>2024-03-18 14:52:58</td>\n",
       "      <td>0</td>\n",
       "      <td>Monday</td>\n",
       "    </tr>\n",
       "    <tr>\n",
       "      <th>4</th>\n",
       "      <td>App Usage</td>\n",
       "      <td>2024-03-18</td>\n",
       "      <td>2024-03-18 14:52:09</td>\n",
       "      <td>0</td>\n",
       "      <td>Monday</td>\n",
       "    </tr>\n",
       "    <tr>\n",
       "      <th>...</th>\n",
       "      <td>...</td>\n",
       "      <td>...</td>\n",
       "      <td>...</td>\n",
       "      <td>...</td>\n",
       "      <td>...</td>\n",
       "    </tr>\n",
       "    <tr>\n",
       "      <th>5677</th>\n",
       "      <td>WhatsApp</td>\n",
       "      <td>2024-03-08</td>\n",
       "      <td>2024-03-08 22:18:52</td>\n",
       "      <td>129</td>\n",
       "      <td>Friday</td>\n",
       "    </tr>\n",
       "    <tr>\n",
       "      <th>5678</th>\n",
       "      <td>Screen on (unlocked)</td>\n",
       "      <td>2024-03-08</td>\n",
       "      <td>2024-03-08 22:18:48</td>\n",
       "      <td>1</td>\n",
       "      <td>Friday</td>\n",
       "    </tr>\n",
       "    <tr>\n",
       "      <th>5679</th>\n",
       "      <td>Screen off (locked)</td>\n",
       "      <td>2024-03-08</td>\n",
       "      <td>2024-03-08 22:17:10</td>\n",
       "      <td>98</td>\n",
       "      <td>Friday</td>\n",
       "    </tr>\n",
       "    <tr>\n",
       "      <th>5680</th>\n",
       "      <td>Calendar</td>\n",
       "      <td>2024-03-08</td>\n",
       "      <td>2024-03-08 22:17:04</td>\n",
       "      <td>4</td>\n",
       "      <td>Friday</td>\n",
       "    </tr>\n",
       "    <tr>\n",
       "      <th>5681</th>\n",
       "      <td>Calendar</td>\n",
       "      <td>2024-03-08</td>\n",
       "      <td>2024-03-08 22:16:55</td>\n",
       "      <td>7</td>\n",
       "      <td>Friday</td>\n",
       "    </tr>\n",
       "  </tbody>\n",
       "</table>\n",
       "<p>5682 rows × 5 columns</p>\n",
       "</div>"
      ],
      "text/plain": [
       "                      App name       Date            DateTime  \\\n",
       "0                    App Usage 2024-03-18 2024-03-18 14:54:16   \n",
       "1                     WhatsApp 2024-03-18 2024-03-18 14:54:04   \n",
       "2                    App Usage 2024-03-18 2024-03-18 14:52:58   \n",
       "3     Activity history enabled 2024-03-18 2024-03-18 14:52:58   \n",
       "4                    App Usage 2024-03-18 2024-03-18 14:52:09   \n",
       "...                        ...        ...                 ...   \n",
       "5677                  WhatsApp 2024-03-08 2024-03-08 22:18:52   \n",
       "5678      Screen on (unlocked) 2024-03-08 2024-03-08 22:18:48   \n",
       "5679       Screen off (locked) 2024-03-08 2024-03-08 22:17:10   \n",
       "5680                  Calendar 2024-03-08 2024-03-08 22:17:04   \n",
       "5681                  Calendar 2024-03-08 2024-03-08 22:16:55   \n",
       "\n",
       "      Time_spent_insec day_of_week  \n",
       "0                    1      Monday  \n",
       "1                   11      Monday  \n",
       "2                   59      Monday  \n",
       "3                    0      Monday  \n",
       "4                    0      Monday  \n",
       "...                ...         ...  \n",
       "5677               129      Friday  \n",
       "5678                 1      Friday  \n",
       "5679                98      Friday  \n",
       "5680                 4      Friday  \n",
       "5681                 7      Friday  \n",
       "\n",
       "[5682 rows x 5 columns]"
      ]
     },
     "execution_count": 23,
     "metadata": {},
     "output_type": "execute_result"
    }
   ],
   "source": [
    "ref.rename(columns={'total_seconds':'Time_spent_insec'})"
   ]
  },
  {
   "cell_type": "code",
   "execution_count": 24,
   "metadata": {},
   "outputs": [],
   "source": [
    "ref.rename(columns={'App name':'appname'},inplace = True)"
   ]
  },
  {
   "cell_type": "code",
   "execution_count": 25,
   "metadata": {},
   "outputs": [
    {
     "data": {
      "text/plain": [
       "64"
      ]
     },
     "execution_count": 25,
     "metadata": {},
     "output_type": "execute_result"
    }
   ],
   "source": [
    "ref.appname.nunique()"
   ]
  },
  {
   "cell_type": "code",
   "execution_count": 26,
   "metadata": {},
   "outputs": [
    {
     "data": {
      "text/plain": [
       "Screen on (unlocked)    1177\n",
       "Screen off (locked)     1177\n",
       "Phone                    657\n",
       "Call                     547\n",
       "WhatsApp                 470\n",
       "Name: appname, dtype: int64"
      ]
     },
     "execution_count": 26,
     "metadata": {},
     "output_type": "execute_result"
    }
   ],
   "source": [
    "#there are total 64 types of app in my phone but we dont need all of them buz many apps only used once or twice so we convert those app in other catagory \n",
    "ref['appname'].value_counts().head(5)\n"
   ]
  },
  {
   "cell_type": "code",
   "execution_count": 27,
   "metadata": {},
   "outputs": [],
   "source": [
    "counts = ref.appname.value_counts()\n",
    "threshold = 19"
   ]
  },
  {
   "cell_type": "code",
   "execution_count": 28,
   "metadata": {},
   "outputs": [],
   "source": [
    "repl = counts[counts<=threshold].index"
   ]
  },
  {
   "cell_type": "code",
   "execution_count": 29,
   "metadata": {},
   "outputs": [],
   "source": [
    "ref.replace(repl,'other',inplace=True)"
   ]
  },
  {
   "cell_type": "code",
   "execution_count": 30,
   "metadata": {},
   "outputs": [
    {
     "data": {
      "text/html": [
       "<div>\n",
       "<style scoped>\n",
       "    .dataframe tbody tr th:only-of-type {\n",
       "        vertical-align: middle;\n",
       "    }\n",
       "\n",
       "    .dataframe tbody tr th {\n",
       "        vertical-align: top;\n",
       "    }\n",
       "\n",
       "    .dataframe thead th {\n",
       "        text-align: right;\n",
       "    }\n",
       "</style>\n",
       "<table border=\"1\" class=\"dataframe\">\n",
       "  <thead>\n",
       "    <tr style=\"text-align: right;\">\n",
       "      <th></th>\n",
       "      <th>appname</th>\n",
       "      <th>Date</th>\n",
       "      <th>DateTime</th>\n",
       "      <th>total_seconds</th>\n",
       "      <th>day_of_week</th>\n",
       "    </tr>\n",
       "  </thead>\n",
       "  <tbody>\n",
       "    <tr>\n",
       "      <th>0</th>\n",
       "      <td>other</td>\n",
       "      <td>2024-03-18</td>\n",
       "      <td>2024-03-18 14:54:16</td>\n",
       "      <td>1</td>\n",
       "      <td>Monday</td>\n",
       "    </tr>\n",
       "    <tr>\n",
       "      <th>1</th>\n",
       "      <td>WhatsApp</td>\n",
       "      <td>2024-03-18</td>\n",
       "      <td>2024-03-18 14:54:04</td>\n",
       "      <td>11</td>\n",
       "      <td>Monday</td>\n",
       "    </tr>\n",
       "    <tr>\n",
       "      <th>2</th>\n",
       "      <td>other</td>\n",
       "      <td>2024-03-18</td>\n",
       "      <td>2024-03-18 14:52:58</td>\n",
       "      <td>59</td>\n",
       "      <td>Monday</td>\n",
       "    </tr>\n",
       "    <tr>\n",
       "      <th>3</th>\n",
       "      <td>other</td>\n",
       "      <td>2024-03-18</td>\n",
       "      <td>2024-03-18 14:52:58</td>\n",
       "      <td>0</td>\n",
       "      <td>Monday</td>\n",
       "    </tr>\n",
       "    <tr>\n",
       "      <th>4</th>\n",
       "      <td>other</td>\n",
       "      <td>2024-03-18</td>\n",
       "      <td>2024-03-18 14:52:09</td>\n",
       "      <td>0</td>\n",
       "      <td>Monday</td>\n",
       "    </tr>\n",
       "    <tr>\n",
       "      <th>...</th>\n",
       "      <td>...</td>\n",
       "      <td>...</td>\n",
       "      <td>...</td>\n",
       "      <td>...</td>\n",
       "      <td>...</td>\n",
       "    </tr>\n",
       "    <tr>\n",
       "      <th>5677</th>\n",
       "      <td>WhatsApp</td>\n",
       "      <td>2024-03-08</td>\n",
       "      <td>2024-03-08 22:18:52</td>\n",
       "      <td>129</td>\n",
       "      <td>Friday</td>\n",
       "    </tr>\n",
       "    <tr>\n",
       "      <th>5678</th>\n",
       "      <td>Screen on (unlocked)</td>\n",
       "      <td>2024-03-08</td>\n",
       "      <td>2024-03-08 22:18:48</td>\n",
       "      <td>1</td>\n",
       "      <td>Friday</td>\n",
       "    </tr>\n",
       "    <tr>\n",
       "      <th>5679</th>\n",
       "      <td>Screen off (locked)</td>\n",
       "      <td>2024-03-08</td>\n",
       "      <td>2024-03-08 22:17:10</td>\n",
       "      <td>98</td>\n",
       "      <td>Friday</td>\n",
       "    </tr>\n",
       "    <tr>\n",
       "      <th>5680</th>\n",
       "      <td>other</td>\n",
       "      <td>2024-03-08</td>\n",
       "      <td>2024-03-08 22:17:04</td>\n",
       "      <td>4</td>\n",
       "      <td>Friday</td>\n",
       "    </tr>\n",
       "    <tr>\n",
       "      <th>5681</th>\n",
       "      <td>other</td>\n",
       "      <td>2024-03-08</td>\n",
       "      <td>2024-03-08 22:16:55</td>\n",
       "      <td>7</td>\n",
       "      <td>Friday</td>\n",
       "    </tr>\n",
       "  </tbody>\n",
       "</table>\n",
       "<p>5682 rows × 5 columns</p>\n",
       "</div>"
      ],
      "text/plain": [
       "                   appname       Date            DateTime  total_seconds  \\\n",
       "0                    other 2024-03-18 2024-03-18 14:54:16              1   \n",
       "1                 WhatsApp 2024-03-18 2024-03-18 14:54:04             11   \n",
       "2                    other 2024-03-18 2024-03-18 14:52:58             59   \n",
       "3                    other 2024-03-18 2024-03-18 14:52:58              0   \n",
       "4                    other 2024-03-18 2024-03-18 14:52:09              0   \n",
       "...                    ...        ...                 ...            ...   \n",
       "5677              WhatsApp 2024-03-08 2024-03-08 22:18:52            129   \n",
       "5678  Screen on (unlocked) 2024-03-08 2024-03-08 22:18:48              1   \n",
       "5679   Screen off (locked) 2024-03-08 2024-03-08 22:17:10             98   \n",
       "5680                 other 2024-03-08 2024-03-08 22:17:04              4   \n",
       "5681                 other 2024-03-08 2024-03-08 22:16:55              7   \n",
       "\n",
       "     day_of_week  \n",
       "0         Monday  \n",
       "1         Monday  \n",
       "2         Monday  \n",
       "3         Monday  \n",
       "4         Monday  \n",
       "...          ...  \n",
       "5677      Friday  \n",
       "5678      Friday  \n",
       "5679      Friday  \n",
       "5680      Friday  \n",
       "5681      Friday  \n",
       "\n",
       "[5682 rows x 5 columns]"
      ]
     },
     "execution_count": 30,
     "metadata": {},
     "output_type": "execute_result"
    }
   ],
   "source": [
    "ref"
   ]
  },
  {
   "cell_type": "code",
   "execution_count": 31,
   "metadata": {},
   "outputs": [
    {
     "data": {
      "text/plain": [
       "Screen on (unlocked)    1177\n",
       "Screen off (locked)     1177\n",
       "Phone                    657\n",
       "Call                     547\n",
       "WhatsApp                 470\n",
       "Instagram                353\n",
       "other                    192\n",
       "Snapchat                 192\n",
       "PhonePe                  161\n",
       "YouTube                  125\n",
       "Chrome                   104\n",
       "Spotify                   92\n",
       "Maps                      90\n",
       "Truecaller                77\n",
       "Launcher                  62\n",
       "Flipkart                  30\n",
       "Clock                     28\n",
       "Camera                    27\n",
       "GPay                      26\n",
       "Messages                  25\n",
       "Google Play Store         24\n",
       "Gallery                   23\n",
       "Calculator                23\n",
       "Name: appname, dtype: int64"
      ]
     },
     "execution_count": 31,
     "metadata": {},
     "output_type": "execute_result"
    }
   ],
   "source": [
    "ref.appname.value_counts()"
   ]
  },
  {
   "cell_type": "code",
   "execution_count": 32,
   "metadata": {},
   "outputs": [],
   "source": [
    "ref = ref[ref['appname'] != 'Screen on (unlocked)']"
   ]
  },
  {
   "cell_type": "code",
   "execution_count": 33,
   "metadata": {},
   "outputs": [],
   "source": [
    "ref = ref[ref['appname'] != 'Screen off (locked)']"
   ]
  },
  {
   "cell_type": "code",
   "execution_count": 34,
   "metadata": {},
   "outputs": [
    {
     "data": {
      "text/plain": [
       "(3328, 5)"
      ]
     },
     "execution_count": 34,
     "metadata": {},
     "output_type": "execute_result"
    }
   ],
   "source": [
    "ref.shape"
   ]
  },
  {
   "cell_type": "markdown",
   "metadata": {},
   "source": [
    "# plotting the graph"
   ]
  },
  {
   "cell_type": "code",
   "execution_count": 35,
   "metadata": {},
   "outputs": [],
   "source": [
    "import seaborn as sns\n",
    "from matplotlib import pyplot as plt \n",
    "from matplotlib import dates as mpl_dates\n",
    "sns.set_style(\"whitegrid\")"
   ]
  },
  {
   "cell_type": "code",
   "execution_count": 36,
   "metadata": {},
   "outputs": [
    {
     "data": {
      "text/html": [
       "<div>\n",
       "<style scoped>\n",
       "    .dataframe tbody tr th:only-of-type {\n",
       "        vertical-align: middle;\n",
       "    }\n",
       "\n",
       "    .dataframe tbody tr th {\n",
       "        vertical-align: top;\n",
       "    }\n",
       "\n",
       "    .dataframe thead th {\n",
       "        text-align: right;\n",
       "    }\n",
       "</style>\n",
       "<table border=\"1\" class=\"dataframe\">\n",
       "  <thead>\n",
       "    <tr style=\"text-align: right;\">\n",
       "      <th></th>\n",
       "      <th>appname</th>\n",
       "      <th>Date</th>\n",
       "      <th>DateTime</th>\n",
       "      <th>total_seconds</th>\n",
       "      <th>day_of_week</th>\n",
       "    </tr>\n",
       "  </thead>\n",
       "  <tbody>\n",
       "    <tr>\n",
       "      <th>2510</th>\n",
       "      <td>Instagram</td>\n",
       "      <td>2024-03-14</td>\n",
       "      <td>2024-03-14 20:17:39</td>\n",
       "      <td>380</td>\n",
       "      <td>Thursday</td>\n",
       "    </tr>\n",
       "    <tr>\n",
       "      <th>4430</th>\n",
       "      <td>Google Play Store</td>\n",
       "      <td>2024-03-10</td>\n",
       "      <td>2024-03-10 23:04:50</td>\n",
       "      <td>2</td>\n",
       "      <td>Sunday</td>\n",
       "    </tr>\n",
       "    <tr>\n",
       "      <th>3085</th>\n",
       "      <td>Snapchat</td>\n",
       "      <td>2024-03-13</td>\n",
       "      <td>2024-03-13 17:07:52</td>\n",
       "      <td>14</td>\n",
       "      <td>Wednesday</td>\n",
       "    </tr>\n",
       "    <tr>\n",
       "      <th>3667</th>\n",
       "      <td>Gallery</td>\n",
       "      <td>2024-03-12</td>\n",
       "      <td>2024-03-12 12:32:06</td>\n",
       "      <td>64</td>\n",
       "      <td>Tuesday</td>\n",
       "    </tr>\n",
       "    <tr>\n",
       "      <th>4896</th>\n",
       "      <td>other</td>\n",
       "      <td>2024-03-10</td>\n",
       "      <td>2024-03-10 10:37:20</td>\n",
       "      <td>1</td>\n",
       "      <td>Sunday</td>\n",
       "    </tr>\n",
       "  </tbody>\n",
       "</table>\n",
       "</div>"
      ],
      "text/plain": [
       "                appname       Date            DateTime  total_seconds  \\\n",
       "2510          Instagram 2024-03-14 2024-03-14 20:17:39            380   \n",
       "4430  Google Play Store 2024-03-10 2024-03-10 23:04:50              2   \n",
       "3085           Snapchat 2024-03-13 2024-03-13 17:07:52             14   \n",
       "3667            Gallery 2024-03-12 2024-03-12 12:32:06             64   \n",
       "4896              other 2024-03-10 2024-03-10 10:37:20              1   \n",
       "\n",
       "     day_of_week  \n",
       "2510    Thursday  \n",
       "4430      Sunday  \n",
       "3085   Wednesday  \n",
       "3667     Tuesday  \n",
       "4896      Sunday  "
      ]
     },
     "execution_count": 36,
     "metadata": {},
     "output_type": "execute_result"
    }
   ],
   "source": [
    "ref.sample(5)"
   ]
  },
  {
   "cell_type": "code",
   "execution_count": 37,
   "metadata": {},
   "outputs": [
    {
     "data": {
      "text/html": [
       "<div>\n",
       "<style scoped>\n",
       "    .dataframe tbody tr th:only-of-type {\n",
       "        vertical-align: middle;\n",
       "    }\n",
       "\n",
       "    .dataframe tbody tr th {\n",
       "        vertical-align: top;\n",
       "    }\n",
       "\n",
       "    .dataframe thead th {\n",
       "        text-align: right;\n",
       "    }\n",
       "</style>\n",
       "<table border=\"1\" class=\"dataframe\">\n",
       "  <thead>\n",
       "    <tr style=\"text-align: right;\">\n",
       "      <th></th>\n",
       "      <th>Date</th>\n",
       "      <th>total_seconds</th>\n",
       "    </tr>\n",
       "  </thead>\n",
       "  <tbody>\n",
       "    <tr>\n",
       "      <th>0</th>\n",
       "      <td>2024-03-08</td>\n",
       "      <td>2206</td>\n",
       "    </tr>\n",
       "    <tr>\n",
       "      <th>1</th>\n",
       "      <td>2024-03-09</td>\n",
       "      <td>21873</td>\n",
       "    </tr>\n",
       "    <tr>\n",
       "      <th>2</th>\n",
       "      <td>2024-03-10</td>\n",
       "      <td>23599</td>\n",
       "    </tr>\n",
       "    <tr>\n",
       "      <th>3</th>\n",
       "      <td>2024-03-11</td>\n",
       "      <td>13049</td>\n",
       "    </tr>\n",
       "    <tr>\n",
       "      <th>4</th>\n",
       "      <td>2024-03-12</td>\n",
       "      <td>19182</td>\n",
       "    </tr>\n",
       "    <tr>\n",
       "      <th>5</th>\n",
       "      <td>2024-03-13</td>\n",
       "      <td>11669</td>\n",
       "    </tr>\n",
       "    <tr>\n",
       "      <th>6</th>\n",
       "      <td>2024-03-14</td>\n",
       "      <td>11550</td>\n",
       "    </tr>\n",
       "    <tr>\n",
       "      <th>7</th>\n",
       "      <td>2024-03-15</td>\n",
       "      <td>13282</td>\n",
       "    </tr>\n",
       "    <tr>\n",
       "      <th>8</th>\n",
       "      <td>2024-03-16</td>\n",
       "      <td>25308</td>\n",
       "    </tr>\n",
       "    <tr>\n",
       "      <th>9</th>\n",
       "      <td>2024-03-17</td>\n",
       "      <td>19675</td>\n",
       "    </tr>\n",
       "    <tr>\n",
       "      <th>10</th>\n",
       "      <td>2024-03-18</td>\n",
       "      <td>15767</td>\n",
       "    </tr>\n",
       "  </tbody>\n",
       "</table>\n",
       "</div>"
      ],
      "text/plain": [
       "         Date  total_seconds\n",
       "0  2024-03-08           2206\n",
       "1  2024-03-09          21873\n",
       "2  2024-03-10          23599\n",
       "3  2024-03-11          13049\n",
       "4  2024-03-12          19182\n",
       "5  2024-03-13          11669\n",
       "6  2024-03-14          11550\n",
       "7  2024-03-15          13282\n",
       "8  2024-03-16          25308\n",
       "9  2024-03-17          19675\n",
       "10 2024-03-18          15767"
      ]
     },
     "execution_count": 37,
     "metadata": {},
     "output_type": "execute_result"
    }
   ],
   "source": [
    "#lets find screen on time for every day\n",
    "sot = ref[['Date','total_seconds']].groupby('Date').sum()\n",
    "sot = sot.reset_index()\n",
    "sot"
   ]
  },
  {
   "cell_type": "code",
   "execution_count": 38,
   "metadata": {},
   "outputs": [
    {
     "data": {
      "image/png": "[encoded data removed]",
      "text/plain": [
       "<Figure size 432x288 with 1 Axes>"
      ]
     },
     "metadata": {
      "needs_background": "light"
     },
     "output_type": "display_data"
    }
   ],
   "source": [
    "\n",
    "# Plotting as bar chart\n",
    "plt.bar(sot['Date'], sot['total_seconds']/3600)\n",
    "# by dividing 3600 sec converted to hours\n",
    "# Formatting x-axis to show all dates\n",
    "plt.xticks(sot['Date'], rotation=90)\n",
    "\n",
    "plt.xlabel('Date')\n",
    "plt.ylabel('Total Seconds')\n",
    "plt.title('Total Seconds over Time')\n",
    "\n",
    "plt.show()"
   ]
  },
  {
   "cell_type": "markdown",
   "metadata": {},
   "source": [
    "## finding which days have highest screen on time of week"
   ]
  },
  {
   "cell_type": "code",
   "execution_count": 39,
   "metadata": {},
   "outputs": [
    {
     "data": {
      "text/html": [
       "<div>\n",
       "<style scoped>\n",
       "    .dataframe tbody tr th:only-of-type {\n",
       "        vertical-align: middle;\n",
       "    }\n",
       "\n",
       "    .dataframe tbody tr th {\n",
       "        vertical-align: top;\n",
       "    }\n",
       "\n",
       "    .dataframe thead th {\n",
       "        text-align: right;\n",
       "    }\n",
       "</style>\n",
       "<table border=\"1\" class=\"dataframe\">\n",
       "  <thead>\n",
       "    <tr style=\"text-align: right;\">\n",
       "      <th></th>\n",
       "      <th>day_of_week</th>\n",
       "      <th>total_seconds</th>\n",
       "    </tr>\n",
       "  </thead>\n",
       "  <tbody>\n",
       "    <tr>\n",
       "      <th>0</th>\n",
       "      <td>Friday</td>\n",
       "      <td>15488</td>\n",
       "    </tr>\n",
       "    <tr>\n",
       "      <th>1</th>\n",
       "      <td>Monday</td>\n",
       "      <td>28816</td>\n",
       "    </tr>\n",
       "    <tr>\n",
       "      <th>2</th>\n",
       "      <td>Saturday</td>\n",
       "      <td>47181</td>\n",
       "    </tr>\n",
       "    <tr>\n",
       "      <th>3</th>\n",
       "      <td>Sunday</td>\n",
       "      <td>43274</td>\n",
       "    </tr>\n",
       "    <tr>\n",
       "      <th>4</th>\n",
       "      <td>Thursday</td>\n",
       "      <td>11550</td>\n",
       "    </tr>\n",
       "    <tr>\n",
       "      <th>5</th>\n",
       "      <td>Tuesday</td>\n",
       "      <td>19182</td>\n",
       "    </tr>\n",
       "    <tr>\n",
       "      <th>6</th>\n",
       "      <td>Wednesday</td>\n",
       "      <td>11669</td>\n",
       "    </tr>\n",
       "  </tbody>\n",
       "</table>\n",
       "</div>"
      ],
      "text/plain": [
       "  day_of_week  total_seconds\n",
       "0      Friday          15488\n",
       "1      Monday          28816\n",
       "2    Saturday          47181\n",
       "3      Sunday          43274\n",
       "4    Thursday          11550\n",
       "5     Tuesday          19182\n",
       "6   Wednesday          11669"
      ]
     },
     "execution_count": 39,
     "metadata": {},
     "output_type": "execute_result"
    }
   ],
   "source": [
    "sotd = ref[['day_of_week','total_seconds']].groupby('day_of_week').sum()\n",
    "sotd = sotd.reset_index()\n",
    "sotd"
   ]
  },
  {
   "cell_type": "code",
   "execution_count": 40,
   "metadata": {},
   "outputs": [
    {
     "data": {
      "image/png": "[encoded data removed]",
      "text/plain": [
       "<Figure size 432x288 with 1 Axes>"
      ]
     },
     "metadata": {
      "needs_background": "light"
     },
     "output_type": "display_data"
    }
   ],
   "source": [
    "# Plotting as bar chart\n",
    "plt.bar(sotd['day_of_week'], sotd['total_seconds']/3600)\n",
    "# by dividing 3600 sec converted to hours\n",
    "# Formatting x-axis to show all dates\n",
    "plt.xticks(sotd['day_of_week'], rotation=90)\n",
    "\n",
    "plt.xlabel('Date')\n",
    "plt.ylabel('Total Seconds')\n",
    "plt.title('Total Seconds over Time')\n",
    "\n",
    "plt.show()"
   ]
  },
  {
   "cell_type": "markdown",
   "metadata": {},
   "source": [
    "# now lets check the app usages "
   ]
  },
  {
   "cell_type": "code",
   "execution_count": 41,
   "metadata": {},
   "outputs": [
    {
     "data": {
      "text/plain": [
       "appname\n",
       "Calculator             561\n",
       "Call                 25738\n",
       "Camera                 600\n",
       "Chrome                6151\n",
       "Clock                  764\n",
       "Flipkart              2931\n",
       "GPay                  1464\n",
       "Gallery                588\n",
       "Google Play Store      729\n",
       "Instagram            59599\n",
       "Launcher               231\n",
       "Maps                  7246\n",
       "Messages              1055\n",
       "Phone                 5024\n",
       "PhonePe               2373\n",
       "Snapchat              7790\n",
       "Spotify               2162\n",
       "Truecaller             339\n",
       "WhatsApp             17775\n",
       "YouTube              24841\n",
       "other                 9199\n",
       "Name: total_seconds, dtype: int32"
      ]
     },
     "execution_count": 41,
     "metadata": {},
     "output_type": "execute_result"
    }
   ],
   "source": [
    "app_time_sum = ref.groupby('appname')['total_seconds'].sum()\n",
    "app_time_sum "
   ]
  },
  {
   "cell_type": "code",
   "execution_count": 42,
   "metadata": {},
   "outputs": [
    {
     "data": {
      "image/png": "[encoded data removed]",
      "text/plain": [
       "<Figure size 1080x1080 with 1 Axes>"
      ]
     },
     "metadata": {},
     "output_type": "display_data"
    }
   ],
   "source": [
    "# Plot a pie chart\n",
    "plt.figure(figsize=(15, 15))\n",
    "plt.pie(app_time_sum, labels=app_time_sum.index, autopct='%1.1f%%', rotatelabels=True)\n",
    "plt.axis('equal')  # Equal aspect ratio ensures that pie is drawn as a circle.\n",
    "plt.title('Time Spent on Each App')\n",
    "plt.show()"
   ]
  },
  {
   "cell_type": "markdown",
   "metadata": {},
   "source": [
    "## find the app i use after one app"
   ]
  },
  {
   "cell_type": "code",
   "execution_count": 43,
   "metadata": {},
   "outputs": [],
   "source": [
    "data = ref['appname'].tolist()"
   ]
  },
  {
   "cell_type": "code",
   "execution_count": 44,
   "metadata": {},
   "outputs": [
    {
     "name": "stdout",
     "output_type": "stream",
     "text": [
      "{('other', 'WhatsApp'): 26, ('WhatsApp', 'other'): 29, ('WhatsApp', 'Google Play Store'): 3, ('Google Play Store', 'Phone'): 3, ('Phone', 'Call'): 272, ('Call', 'Phone'): 375, ('Phone', 'WhatsApp'): 47, ('WhatsApp', 'Phone'): 42, ('other', 'Camera'): 1, ('Camera', 'WhatsApp'): 3, ('Call', 'Chrome'): 7, ('Chrome', 'Launcher'): 3, ('Launcher', 'Phone'): 4, ('Phone', 'Launcher'): 10, ('Launcher', 'WhatsApp'): 10, ('WhatsApp', 'Launcher'): 9, ('Launcher', 'Spotify'): 7, ('Spotify', 'Launcher'): 9, ('Launcher', 'Maps'): 4, ('Maps', 'Launcher'): 4, ('Launcher', 'Instagram'): 13, ('Instagram', 'Launcher'): 11, ('Launcher', 'Chrome'): 3, ('Instagram', 'Google Play Store'): 5, ('Google Play Store', 'Instagram'): 5, ('Launcher', 'Call'): 7, ('Instagram', 'Spotify'): 4, ('Launcher', 'GPay'): 1, ('GPay', 'Launcher'): 1, ('WhatsApp', 'Instagram'): 84, ('Instagram', 'WhatsApp'): 144, ('WhatsApp', 'Spotify'): 7, ('Call', 'Launcher'): 1, ('Spotify', 'Snapchat'): 9, ('Snapchat', 'Maps'): 7, ('Maps', 'Snapchat'): 7, ('Snapchat', 'Spotify'): 9, ('Spotify', 'WhatsApp'): 7, ('WhatsApp', 'Maps'): 12, ('Maps', 'Spotify'): 5, ('Spotify', 'YouTube'): 9, ('YouTube', 'WhatsApp'): 18, ('WhatsApp', 'PhonePe'): 11, ('PhonePe', 'Call'): 8, ('Phone', 'Instagram'): 50, ('WhatsApp', 'YouTube'): 21, ('YouTube', 'Chrome'): 11, ('Chrome', 'YouTube'): 13, ('YouTube', 'Maps'): 3, ('Maps', 'other'): 5, ('other', 'Maps'): 7, ('Spotify', 'Maps'): 2, ('Maps', 'YouTube'): 2, ('Maps', 'Call'): 13, ('Phone', 'YouTube'): 12, ('YouTube', 'Call'): 11, ('Call', 'YouTube'): 12, ('YouTube', 'Truecaller'): 2, ('Truecaller', 'Call'): 43, ('Call', 'Truecaller'): 19, ('YouTube', 'Spotify'): 6, ('Spotify', 'Call'): 2, ('Phone', 'Maps'): 13, ('Maps', 'Instagram'): 4, ('Instagram', 'Maps'): 4, ('Snapchat', 'Instagram'): 32, ('WhatsApp', 'Call'): 54, ('YouTube', 'Phone'): 4, ('Phone', 'Truecaller'): 19, ('Instagram', 'PhonePe'): 6, ('PhonePe', 'other'): 6, ('other', 'Call'): 12, ('Call', 'PhonePe'): 3, ('PhonePe', 'WhatsApp'): 8, ('Maps', 'Phone'): 8, ('Maps', 'WhatsApp'): 16, ('Call', 'Instagram'): 20, ('Maps', 'Google Play Store'): 2, ('Google Play Store', 'Maps'): 2, ('Phone', 'Google Play Store'): 2, ('Google Play Store', 'WhatsApp'): 2, ('WhatsApp', 'Chrome'): 24, ('Chrome', 'Clock'): 2, ('Clock', 'WhatsApp'): 2, ('Phone', 'Snapchat'): 21, ('Snapchat', 'WhatsApp'): 35, ('Instagram', 'other'): 21, ('other', 'Instagram'): 18, ('WhatsApp', 'Gallery'): 9, ('Gallery', 'Camera'): 4, ('Camera', 'YouTube'): 4, ('YouTube', 'Instagram'): 30, ('Snapchat', 'Phone'): 15, ('Instagram', 'Call'): 21, ('Instagram', 'Phone'): 14, ('WhatsApp', 'Snapchat'): 46, ('Snapchat', 'Calculator'): 3, ('Calculator', 'Instagram'): 4, ('Snapchat', 'Call'): 16, ('Instagram', 'Chrome'): 1, ('Chrome', 'other'): 8, ('other', 'Chrome'): 12, ('Chrome', 'Call'): 10, ('Phone', 'Chrome'): 13, ('Chrome', 'Instagram'): 6, ('Chrome', 'PhonePe'): 3, ('PhonePe', 'Phone'): 14, ('Instagram', 'Snapchat'): 26, ('Chrome', 'Phone'): 7, ('Phone', 'other'): 14, ('other', 'Google Play Store'): 5, ('Call', 'Gallery'): 3, ('Gallery', 'WhatsApp'): 5, ('Gallery', 'Phone'): 1, ('WhatsApp', 'GPay'): 3, ('GPay', 'Google Play Store'): 2, ('Google Play Store', 'GPay'): 1, ('GPay', 'Call'): 2, ('Gallery', 'PhonePe'): 2, ('Truecaller', 'Phone'): 3, ('Chrome', 'Snapchat'): 4, ('Call', 'Camera'): 1, ('Camera', 'Chrome'): 1, ('Chrome', 'WhatsApp'): 22, ('Call', 'other'): 6, ('other', 'Snapchat'): 6, ('Snapchat', 'Messages'): 4, ('Messages', 'Call'): 4, ('Call', 'Snapchat'): 9, ('Messages', 'other'): 3, ('other', 'Messages'): 2, ('PhonePe', 'Chrome'): 3, ('Call', 'WhatsApp'): 11, ('Call', 'Maps'): 10, ('other', 'Phone'): 7, ('other', 'YouTube'): 3, ('WhatsApp', 'Truecaller'): 5, ('Instagram', 'Messages'): 2, ('Messages', 'Instagram'): 3, ('Snapchat', 'other'): 9, ('WhatsApp', 'Calculator'): 1, ('Calculator', 'WhatsApp'): 2, ('Maps', 'Messages'): 1, ('Spotify', 'Instagram'): 5, ('Messages', 'Phone'): 5, ('Phone', 'Messages'): 7, ('Messages', 'YouTube'): 1, ('YouTube', 'Snapchat'): 13, ('Snapchat', 'YouTube'): 8, ('WhatsApp', 'Camera'): 4, ('Camera', 'Phone'): 2, ('Clock', 'Phone'): 2, ('PhonePe', 'Snapchat'): 2, ('Snapchat', 'Chrome'): 3, ('Phone', 'PhonePe'): 13, ('other', 'Truecaller'): 15, ('Truecaller', 'WhatsApp'): 3, ('PhonePe', 'Maps'): 2, ('YouTube', 'other'): 4, ('other', 'Flipkart'): 3, ('Flipkart', 'Phone'): 2, ('Snapchat', 'Truecaller'): 5, ('Truecaller', 'other'): 12, ('Truecaller', 'Snapchat'): 6, ('Phone', 'Calculator'): 5, ('Calculator', 'Chrome'): 1, ('Calculator', 'Phone'): 3, ('Calculator', 'Snapchat'): 1, ('Chrome', 'Truecaller'): 1, ('Truecaller', 'Chrome'): 1, ('Instagram', 'Calculator'): 2, ('Chrome', 'Spotify'): 2, ('Spotify', 'PhonePe'): 2, ('other', 'PhonePe'): 5, ('Phone', 'GPay'): 3, ('GPay', 'Camera'): 1, ('Camera', 'GPay'): 1, ('GPay', 'Chrome'): 1, ('other', 'Calculator'): 1, ('Calculator', 'PhonePe'): 3, ('Phone', 'Spotify'): 4, ('Call', 'Spotify'): 3, ('other', 'Clock'): 1, ('Clock', 'YouTube'): 4, ('WhatsApp', 'Clock'): 5, ('Clock', 'other'): 1, ('Calculator', 'Maps'): 1, ('Instagram', 'YouTube'): 16, ('GPay', 'Phone'): 3, ('Google Play Store', 'Call'): 1, ('Google Play Store', 'Chrome'): 2, ('WhatsApp', 'Flipkart'): 9, ('Flipkart', 'WhatsApp'): 17, ('Camera', 'Instagram'): 3, ('Gallery', 'Snapchat'): 2, ('Spotify', 'other'): 2, ('Clock', 'Call'): 3, ('Instagram', 'Clock'): 1, ('Clock', 'Instagram'): 4, ('PhonePe', 'Instagram'): 5, ('Call', 'Flipkart'): 2, ('PhonePe', 'GPay'): 5, ('GPay', 'PhonePe'): 7, ('other', 'GPay'): 1, ('Phone', 'Camera'): 1, ('Camera', 'PhonePe'): 1, ('PhonePe', 'Spotify'): 1, ('Instagram', 'Camera'): 2, ('Instagram', 'Truecaller'): 2, ('Truecaller', 'Instagram'): 1, ('WhatsApp', 'Messages'): 3, ('Messages', 'WhatsApp'): 2, ('Spotify', 'Camera'): 1, ('Camera', 'Calculator'): 1, ('Camera', 'Gallery'): 1, ('Snapchat', 'Clock'): 4, ('Call', 'Clock'): 3, ('Messages', 'Chrome'): 1, ('Instagram', 'GPay'): 3, ('Snapchat', 'GPay'): 2, ('GPay', 'WhatsApp'): 1, ('GPay', 'Truecaller'): 1, ('PhonePe', 'Google Play Store'): 1, ('Google Play Store', 'PhonePe'): 1, ('Spotify', 'Google Play Store'): 1, ('Snapchat', 'PhonePe'): 1, ('PhonePe', 'Camera'): 1, ('Camera', 'Call'): 2, ('Flipkart', 'Gallery'): 1, ('Gallery', 'other'): 5, ('other', 'Gallery'): 3, ('Google Play Store', 'Snapchat'): 1, ('Snapchat', 'Camera'): 3, ('Clock', 'Snapchat'): 1, ('Instagram', 'Gallery'): 2, ('Phone', 'Flipkart'): 6, ('Flipkart', 'Call'): 5, ('YouTube', 'Camera'): 1, ('Camera', 'Snapchat'): 2, ('GPay', 'Instagram'): 2, ('Google Play Store', 'other'): 2, ('PhonePe', 'Calculator'): 2, ('Chrome', 'Messages'): 1, ('YouTube', 'Flipkart'): 2, ('Chrome', 'Flipkart'): 4, ('Maps', 'Chrome'): 1, ('Chrome', 'Maps'): 1, ('Flipkart', 'other'): 1, ('Instagram', 'Flipkart'): 2, ('Flipkart', 'Chrome'): 2, ('Flipkart', 'Launcher'): 1, ('Call', 'Calculator'): 1, ('Calculator', 'Flipkart'): 1, ('Phone', 'Gallery'): 1, ('Gallery', 'GPay'): 1, ('Google Play Store', 'Camera'): 1, ('Phone', 'Clock'): 1, ('Messages', 'Spotify'): 1}\n"
     ]
    }
   ],
   "source": [
    "\n",
    "def find_max_frequent_pair(df):\n",
    "  \"\"\"\n",
    "  This function finds the pair of numbers that occurs the most times in a list,\n",
    "  ignoring pairs of the same number.\n",
    "\n",
    "  Args:\n",
    "      data: A list of integers.\n",
    "\n",
    "  Returns:\n",
    "      A tuple containing the most frequent pair and its frequency.\n",
    "  \"\"\"\n",
    "\n",
    "  # Create a dictionary to store the frequency of each pair.\n",
    "  pair_counts = {}\n",
    "  for i in range(len(data) - 1):\n",
    "    # Check if the current and next elements are different to avoid same number pairs.\n",
    "    if data[i] != data[i + 1]:\n",
    "      current_pair = (data[i], data[i + 1])\n",
    "      # Increment the count for the current pair or initialize it to 1 if not seen before.\n",
    "      pair_counts[current_pair] = pair_counts.get(current_pair, 0) + 1\n",
    "  \n",
    "  return pair_counts\n",
    "\"\"\" \n",
    "  # Find the pair with the maximum frequency.\n",
    "  max_frequency = 0\n",
    "  most_frequent_pair = None\n",
    "  most2 = None\n",
    "  most3 = None\n",
    "  for pair, count in pair_counts.items():\n",
    "    if count > max_frequency:\n",
    "      max_frequency = count\n",
    "      most_frequent_pair = pair\n",
    "\n",
    "  return most_frequent_pair, max_frequency\n",
    " \"\"\"  \n",
    "# Find the most frequent pair\n",
    "most_frequent_pair = find_max_frequent_pair(data)\n",
    "\n",
    "print(most_frequent_pair)"
   ]
  },
  {
   "cell_type": "code",
   "execution_count": 45,
   "metadata": {},
   "outputs": [
    {
     "name": "stdout",
     "output_type": "stream",
     "text": [
      "[(('Call', 'Phone'), 375), (('Phone', 'Call'), 272), (('Instagram', 'WhatsApp'), 144), (('WhatsApp', 'Instagram'), 84), (('WhatsApp', 'Call'), 54), (('Phone', 'Instagram'), 50), (('Phone', 'WhatsApp'), 47), (('WhatsApp', 'Snapchat'), 46), (('Truecaller', 'Call'), 43), (('WhatsApp', 'Phone'), 42), (('Snapchat', 'WhatsApp'), 35), (('Snapchat', 'Instagram'), 32), (('YouTube', 'Instagram'), 30), (('WhatsApp', 'other'), 29), (('other', 'WhatsApp'), 26), (('Instagram', 'Snapchat'), 26), (('WhatsApp', 'Chrome'), 24), (('Chrome', 'WhatsApp'), 22), (('WhatsApp', 'YouTube'), 21), (('Phone', 'Snapchat'), 21), (('Instagram', 'other'), 21), (('Instagram', 'Call'), 21), (('Call', 'Instagram'), 20), (('Call', 'Truecaller'), 19), (('Phone', 'Truecaller'), 19), (('YouTube', 'WhatsApp'), 18), (('other', 'Instagram'), 18), (('Flipkart', 'WhatsApp'), 17), (('Maps', 'WhatsApp'), 16), (('Snapchat', 'Call'), 16), (('Instagram', 'YouTube'), 16), (('Snapchat', 'Phone'), 15), (('other', 'Truecaller'), 15), (('Instagram', 'Phone'), 14), (('PhonePe', 'Phone'), 14), (('Phone', 'other'), 14), (('Launcher', 'Instagram'), 13), (('Chrome', 'YouTube'), 13), (('Maps', 'Call'), 13), (('Phone', 'Maps'), 13), (('Phone', 'Chrome'), 13), (('YouTube', 'Snapchat'), 13), (('Phone', 'PhonePe'), 13), (('WhatsApp', 'Maps'), 12), (('Phone', 'YouTube'), 12), (('Call', 'YouTube'), 12), (('other', 'Call'), 12), (('other', 'Chrome'), 12), (('Truecaller', 'other'), 12), (('Instagram', 'Launcher'), 11), (('WhatsApp', 'PhonePe'), 11), (('YouTube', 'Chrome'), 11), (('YouTube', 'Call'), 11), (('Call', 'WhatsApp'), 11), (('Phone', 'Launcher'), 10), (('Launcher', 'WhatsApp'), 10), (('Chrome', 'Call'), 10), (('Call', 'Maps'), 10), (('WhatsApp', 'Launcher'), 9), (('Spotify', 'Launcher'), 9), (('Spotify', 'Snapchat'), 9), (('Snapchat', 'Spotify'), 9), (('Spotify', 'YouTube'), 9), (('WhatsApp', 'Gallery'), 9), (('Call', 'Snapchat'), 9), (('Snapchat', 'other'), 9), (('WhatsApp', 'Flipkart'), 9), (('PhonePe', 'Call'), 8), (('PhonePe', 'WhatsApp'), 8), (('Maps', 'Phone'), 8), (('Chrome', 'other'), 8), (('Snapchat', 'YouTube'), 8), (('Call', 'Chrome'), 7), (('Launcher', 'Spotify'), 7), (('Launcher', 'Call'), 7), (('WhatsApp', 'Spotify'), 7), (('Snapchat', 'Maps'), 7), (('Maps', 'Snapchat'), 7), (('Spotify', 'WhatsApp'), 7), (('other', 'Maps'), 7), (('Chrome', 'Phone'), 7), (('other', 'Phone'), 7), (('Phone', 'Messages'), 7), (('GPay', 'PhonePe'), 7), (('YouTube', 'Spotify'), 6), (('Instagram', 'PhonePe'), 6), (('PhonePe', 'other'), 6), (('Chrome', 'Instagram'), 6), (('Call', 'other'), 6), (('other', 'Snapchat'), 6), (('Truecaller', 'Snapchat'), 6), (('Phone', 'Flipkart'), 6), (('Instagram', 'Google Play Store'), 5), (('Google Play Store', 'Instagram'), 5), (('Maps', 'Spotify'), 5), (('Maps', 'other'), 5), (('other', 'Google Play Store'), 5), (('Gallery', 'WhatsApp'), 5), (('WhatsApp', 'Truecaller'), 5), (('Spotify', 'Instagram'), 5), (('Messages', 'Phone'), 5), (('Snapchat', 'Truecaller'), 5), (('Phone', 'Calculator'), 5), (('other', 'PhonePe'), 5), (('WhatsApp', 'Clock'), 5), (('PhonePe', 'Instagram'), 5), (('PhonePe', 'GPay'), 5), (('Gallery', 'other'), 5), (('Flipkart', 'Call'), 5), (('Launcher', 'Phone'), 4), (('Launcher', 'Maps'), 4), (('Maps', 'Launcher'), 4), (('Instagram', 'Spotify'), 4), (('Maps', 'Instagram'), 4), (('Instagram', 'Maps'), 4), (('YouTube', 'Phone'), 4), (('Gallery', 'Camera'), 4), (('Camera', 'YouTube'), 4), (('Calculator', 'Instagram'), 4), (('Chrome', 'Snapchat'), 4), (('Snapchat', 'Messages'), 4), (('Messages', 'Call'), 4), (('WhatsApp', 'Camera'), 4), (('YouTube', 'other'), 4), (('Phone', 'Spotify'), 4), (('Clock', 'YouTube'), 4), (('Clock', 'Instagram'), 4), (('Snapchat', 'Clock'), 4), (('Chrome', 'Flipkart'), 4), (('WhatsApp', 'Google Play Store'), 3), (('Google Play Store', 'Phone'), 3), (('Camera', 'WhatsApp'), 3), (('Chrome', 'Launcher'), 3), (('Launcher', 'Chrome'), 3), (('YouTube', 'Maps'), 3), (('Call', 'PhonePe'), 3), (('Snapchat', 'Calculator'), 3), (('Chrome', 'PhonePe'), 3), (('Call', 'Gallery'), 3), (('WhatsApp', 'GPay'), 3), (('Truecaller', 'Phone'), 3), (('Messages', 'other'), 3), (('PhonePe', 'Chrome'), 3), (('other', 'YouTube'), 3), (('Messages', 'Instagram'), 3), (('Snapchat', 'Chrome'), 3), (('Truecaller', 'WhatsApp'), 3), (('other', 'Flipkart'), 3), (('Calculator', 'Phone'), 3), (('Phone', 'GPay'), 3), (('Calculator', 'PhonePe'), 3), (('Call', 'Spotify'), 3), (('GPay', 'Phone'), 3), (('Camera', 'Instagram'), 3), (('Clock', 'Call'), 3), (('WhatsApp', 'Messages'), 3), (('Call', 'Clock'), 3), (('Instagram', 'GPay'), 3), (('other', 'Gallery'), 3), (('Snapchat', 'Camera'), 3), (('Spotify', 'Maps'), 2), (('Maps', 'YouTube'), 2), (('YouTube', 'Truecaller'), 2), (('Spotify', 'Call'), 2), (('Maps', 'Google Play Store'), 2), (('Google Play Store', 'Maps'), 2), (('Phone', 'Google Play Store'), 2), (('Google Play Store', 'WhatsApp'), 2), (('Chrome', 'Clock'), 2), (('Clock', 'WhatsApp'), 2), (('GPay', 'Google Play Store'), 2), (('GPay', 'Call'), 2), (('Gallery', 'PhonePe'), 2), (('other', 'Messages'), 2), (('Instagram', 'Messages'), 2), (('Calculator', 'WhatsApp'), 2), (('Camera', 'Phone'), 2), (('Clock', 'Phone'), 2), (('PhonePe', 'Snapchat'), 2), (('PhonePe', 'Maps'), 2), (('Flipkart', 'Phone'), 2), (('Instagram', 'Calculator'), 2), (('Chrome', 'Spotify'), 2), (('Spotify', 'PhonePe'), 2), (('Google Play Store', 'Chrome'), 2), (('Gallery', 'Snapchat'), 2), (('Spotify', 'other'), 2), (('Call', 'Flipkart'), 2), (('Instagram', 'Camera'), 2), (('Instagram', 'Truecaller'), 2), (('Messages', 'WhatsApp'), 2), (('Snapchat', 'GPay'), 2), (('Camera', 'Call'), 2), (('Instagram', 'Gallery'), 2), (('Camera', 'Snapchat'), 2), (('GPay', 'Instagram'), 2), (('Google Play Store', 'other'), 2), (('PhonePe', 'Calculator'), 2), (('YouTube', 'Flipkart'), 2), (('Instagram', 'Flipkart'), 2), (('Flipkart', 'Chrome'), 2), (('other', 'Camera'), 1), (('Launcher', 'GPay'), 1), (('GPay', 'Launcher'), 1), (('Call', 'Launcher'), 1), (('Instagram', 'Chrome'), 1), (('Gallery', 'Phone'), 1), (('Google Play Store', 'GPay'), 1), (('Call', 'Camera'), 1), (('Camera', 'Chrome'), 1), (('WhatsApp', 'Calculator'), 1), (('Maps', 'Messages'), 1), (('Messages', 'YouTube'), 1), (('Calculator', 'Chrome'), 1), (('Calculator', 'Snapchat'), 1), (('Chrome', 'Truecaller'), 1), (('Truecaller', 'Chrome'), 1), (('GPay', 'Camera'), 1), (('Camera', 'GPay'), 1), (('GPay', 'Chrome'), 1), (('other', 'Calculator'), 1), (('other', 'Clock'), 1), (('Clock', 'other'), 1), (('Calculator', 'Maps'), 1), (('Google Play Store', 'Call'), 1), (('Instagram', 'Clock'), 1), (('other', 'GPay'), 1), (('Phone', 'Camera'), 1), (('Camera', 'PhonePe'), 1), (('PhonePe', 'Spotify'), 1), (('Truecaller', 'Instagram'), 1), (('Spotify', 'Camera'), 1), (('Camera', 'Calculator'), 1), (('Camera', 'Gallery'), 1), (('Messages', 'Chrome'), 1), (('GPay', 'WhatsApp'), 1), (('GPay', 'Truecaller'), 1), (('PhonePe', 'Google Play Store'), 1), (('Google Play Store', 'PhonePe'), 1), (('Spotify', 'Google Play Store'), 1), (('Snapchat', 'PhonePe'), 1), (('PhonePe', 'Camera'), 1), (('Flipkart', 'Gallery'), 1), (('Google Play Store', 'Snapchat'), 1), (('Clock', 'Snapchat'), 1), (('YouTube', 'Camera'), 1), (('Chrome', 'Messages'), 1), (('Maps', 'Chrome'), 1), (('Chrome', 'Maps'), 1), (('Flipkart', 'other'), 1), (('Flipkart', 'Launcher'), 1), (('Call', 'Calculator'), 1), (('Calculator', 'Flipkart'), 1), (('Phone', 'Gallery'), 1), (('Gallery', 'GPay'), 1), (('Google Play Store', 'Camera'), 1), (('Phone', 'Clock'), 1), (('Messages', 'Spotify'), 1)]\n"
     ]
    }
   ],
   "source": [
    "my_dict = most_frequent_pair\n",
    "\n",
    "# Sort by values (using list of tuples) in descending order\n",
    "sorted_by_value = sorted(my_dict.items(), key=lambda x: x[1], reverse=True)\n",
    "print(sorted_by_value)  # Output: [('a', 10), ('c', 7), ('b', 3)] (key-value pairs sorted by value in descending order)\n"
   ]
  },
  {
   "cell_type": "code",
   "execution_count": 46,
   "metadata": {},
   "outputs": [
    {
     "data": {
      "text/html": [
       "<div>\n",
       "<style scoped>\n",
       "    .dataframe tbody tr th:only-of-type {\n",
       "        vertical-align: middle;\n",
       "    }\n",
       "\n",
       "    .dataframe tbody tr th {\n",
       "        vertical-align: top;\n",
       "    }\n",
       "\n",
       "    .dataframe thead th {\n",
       "        text-align: right;\n",
       "    }\n",
       "</style>\n",
       "<table border=\"1\" class=\"dataframe\">\n",
       "  <thead>\n",
       "    <tr style=\"text-align: right;\">\n",
       "      <th></th>\n",
       "      <th>appname</th>\n",
       "      <th>Date</th>\n",
       "      <th>DateTime</th>\n",
       "      <th>total_seconds</th>\n",
       "      <th>day_of_week</th>\n",
       "    </tr>\n",
       "  </thead>\n",
       "  <tbody>\n",
       "    <tr>\n",
       "      <th>0</th>\n",
       "      <td>other</td>\n",
       "      <td>2024-03-18</td>\n",
       "      <td>2024-03-18 14:54:16</td>\n",
       "      <td>1</td>\n",
       "      <td>Monday</td>\n",
       "    </tr>\n",
       "    <tr>\n",
       "      <th>1</th>\n",
       "      <td>WhatsApp</td>\n",
       "      <td>2024-03-18</td>\n",
       "      <td>2024-03-18 14:54:04</td>\n",
       "      <td>11</td>\n",
       "      <td>Monday</td>\n",
       "    </tr>\n",
       "    <tr>\n",
       "      <th>2</th>\n",
       "      <td>other</td>\n",
       "      <td>2024-03-18</td>\n",
       "      <td>2024-03-18 14:52:58</td>\n",
       "      <td>59</td>\n",
       "      <td>Monday</td>\n",
       "    </tr>\n",
       "    <tr>\n",
       "      <th>3</th>\n",
       "      <td>other</td>\n",
       "      <td>2024-03-18</td>\n",
       "      <td>2024-03-18 14:52:58</td>\n",
       "      <td>0</td>\n",
       "      <td>Monday</td>\n",
       "    </tr>\n",
       "    <tr>\n",
       "      <th>4</th>\n",
       "      <td>other</td>\n",
       "      <td>2024-03-18</td>\n",
       "      <td>2024-03-18 14:52:09</td>\n",
       "      <td>0</td>\n",
       "      <td>Monday</td>\n",
       "    </tr>\n",
       "    <tr>\n",
       "      <th>...</th>\n",
       "      <td>...</td>\n",
       "      <td>...</td>\n",
       "      <td>...</td>\n",
       "      <td>...</td>\n",
       "      <td>...</td>\n",
       "    </tr>\n",
       "    <tr>\n",
       "      <th>5675</th>\n",
       "      <td>Instagram</td>\n",
       "      <td>2024-03-08</td>\n",
       "      <td>2024-03-08 22:22:55</td>\n",
       "      <td>151</td>\n",
       "      <td>Friday</td>\n",
       "    </tr>\n",
       "    <tr>\n",
       "      <th>5676</th>\n",
       "      <td>Flipkart</td>\n",
       "      <td>2024-03-08</td>\n",
       "      <td>2024-03-08 22:21:07</td>\n",
       "      <td>66</td>\n",
       "      <td>Friday</td>\n",
       "    </tr>\n",
       "    <tr>\n",
       "      <th>5677</th>\n",
       "      <td>WhatsApp</td>\n",
       "      <td>2024-03-08</td>\n",
       "      <td>2024-03-08 22:18:52</td>\n",
       "      <td>129</td>\n",
       "      <td>Friday</td>\n",
       "    </tr>\n",
       "    <tr>\n",
       "      <th>5680</th>\n",
       "      <td>other</td>\n",
       "      <td>2024-03-08</td>\n",
       "      <td>2024-03-08 22:17:04</td>\n",
       "      <td>4</td>\n",
       "      <td>Friday</td>\n",
       "    </tr>\n",
       "    <tr>\n",
       "      <th>5681</th>\n",
       "      <td>other</td>\n",
       "      <td>2024-03-08</td>\n",
       "      <td>2024-03-08 22:16:55</td>\n",
       "      <td>7</td>\n",
       "      <td>Friday</td>\n",
       "    </tr>\n",
       "  </tbody>\n",
       "</table>\n",
       "<p>3328 rows × 5 columns</p>\n",
       "</div>"
      ],
      "text/plain": [
       "        appname       Date            DateTime  total_seconds day_of_week\n",
       "0         other 2024-03-18 2024-03-18 14:54:16              1      Monday\n",
       "1      WhatsApp 2024-03-18 2024-03-18 14:54:04             11      Monday\n",
       "2         other 2024-03-18 2024-03-18 14:52:58             59      Monday\n",
       "3         other 2024-03-18 2024-03-18 14:52:58              0      Monday\n",
       "4         other 2024-03-18 2024-03-18 14:52:09              0      Monday\n",
       "...         ...        ...                 ...            ...         ...\n",
       "5675  Instagram 2024-03-08 2024-03-08 22:22:55            151      Friday\n",
       "5676   Flipkart 2024-03-08 2024-03-08 22:21:07             66      Friday\n",
       "5677   WhatsApp 2024-03-08 2024-03-08 22:18:52            129      Friday\n",
       "5680      other 2024-03-08 2024-03-08 22:17:04              4      Friday\n",
       "5681      other 2024-03-08 2024-03-08 22:16:55              7      Friday\n",
       "\n",
       "[3328 rows x 5 columns]"
      ]
     },
     "execution_count": 46,
     "metadata": {},
     "output_type": "execute_result"
    }
   ],
   "source": [
    "ref"
   ]
  },
  {
   "cell_type": "markdown",
   "metadata": {},
   "source": [
    "## trying to find which time period i use phone most of the day"
   ]
  },
  {
   "cell_type": "code",
   "execution_count": 47,
   "metadata": {},
   "outputs": [],
   "source": [
    "dfs = []\n",
    "for i in range (0,23):\n",
    "    # Specify the time range\n",
    "    start_time = str(i) + ':00:00'\n",
    "    end_time = str(i+1) + ':00:00'\n",
    "\n",
    "    # Convert start and end time strings to datetime objects\n",
    "    start_time_dt = pd.to_datetime(start_time, format='%H:%M:%S').time()\n",
    "    end_time_dt = pd.to_datetime(end_time, format='%H:%M:%S').time()\n",
    "\n",
    "    # Filter the data\n",
    "    filtered_data = ref[(ref['DateTime'].dt.time >= start_time_dt) & (ref['DateTime'].dt.time <= end_time_dt)]\n",
    "\n",
    "    temp = filtered_data.groupby('Date')['total_seconds'].sum()/60\n",
    "    temp = temp.reset_index()\n",
    "    temp['timestamp'] = start_time + \" \" + end_time\n",
    "    dfs.append(temp)\n",
    "    appended_df = pd.concat(dfs, ignore_index=True)\n",
    "   "
   ]
  },
  {
   "cell_type": "code",
   "execution_count": 48,
   "metadata": {},
   "outputs": [
    {
     "data": {
      "text/html": [
       "<div>\n",
       "<style scoped>\n",
       "    .dataframe tbody tr th:only-of-type {\n",
       "        vertical-align: middle;\n",
       "    }\n",
       "\n",
       "    .dataframe tbody tr th {\n",
       "        vertical-align: top;\n",
       "    }\n",
       "\n",
       "    .dataframe thead th {\n",
       "        text-align: right;\n",
       "    }\n",
       "</style>\n",
       "<table border=\"1\" class=\"dataframe\">\n",
       "  <thead>\n",
       "    <tr style=\"text-align: right;\">\n",
       "      <th></th>\n",
       "      <th>total_seconds</th>\n",
       "      <th>timestamp</th>\n",
       "    </tr>\n",
       "  </thead>\n",
       "  <tbody>\n",
       "    <tr>\n",
       "      <th>0</th>\n",
       "      <td>15.350000</td>\n",
       "      <td>0:00:00 1:00:00</td>\n",
       "    </tr>\n",
       "    <tr>\n",
       "      <th>1</th>\n",
       "      <td>14.350000</td>\n",
       "      <td>0:00:00 1:00:00</td>\n",
       "    </tr>\n",
       "    <tr>\n",
       "      <th>2</th>\n",
       "      <td>21.850000</td>\n",
       "      <td>0:00:00 1:00:00</td>\n",
       "    </tr>\n",
       "    <tr>\n",
       "      <th>3</th>\n",
       "      <td>4.316667</td>\n",
       "      <td>0:00:00 1:00:00</td>\n",
       "    </tr>\n",
       "    <tr>\n",
       "      <th>4</th>\n",
       "      <td>46.183333</td>\n",
       "      <td>1:00:00 2:00:00</td>\n",
       "    </tr>\n",
       "    <tr>\n",
       "      <th>...</th>\n",
       "      <td>...</td>\n",
       "      <td>...</td>\n",
       "    </tr>\n",
       "    <tr>\n",
       "      <th>166</th>\n",
       "      <td>13.116667</td>\n",
       "      <td>22:00:00 23:00:00</td>\n",
       "    </tr>\n",
       "    <tr>\n",
       "      <th>167</th>\n",
       "      <td>6.616667</td>\n",
       "      <td>22:00:00 23:00:00</td>\n",
       "    </tr>\n",
       "    <tr>\n",
       "      <th>168</th>\n",
       "      <td>28.733333</td>\n",
       "      <td>22:00:00 23:00:00</td>\n",
       "    </tr>\n",
       "    <tr>\n",
       "      <th>169</th>\n",
       "      <td>26.016667</td>\n",
       "      <td>22:00:00 23:00:00</td>\n",
       "    </tr>\n",
       "    <tr>\n",
       "      <th>170</th>\n",
       "      <td>8.100000</td>\n",
       "      <td>22:00:00 23:00:00</td>\n",
       "    </tr>\n",
       "  </tbody>\n",
       "</table>\n",
       "<p>171 rows × 2 columns</p>\n",
       "</div>"
      ],
      "text/plain": [
       "     total_seconds          timestamp\n",
       "0        15.350000    0:00:00 1:00:00\n",
       "1        14.350000    0:00:00 1:00:00\n",
       "2        21.850000    0:00:00 1:00:00\n",
       "3         4.316667    0:00:00 1:00:00\n",
       "4        46.183333    1:00:00 2:00:00\n",
       "..             ...                ...\n",
       "166      13.116667  22:00:00 23:00:00\n",
       "167       6.616667  22:00:00 23:00:00\n",
       "168      28.733333  22:00:00 23:00:00\n",
       "169      26.016667  22:00:00 23:00:00\n",
       "170       8.100000  22:00:00 23:00:00\n",
       "\n",
       "[171 rows x 2 columns]"
      ]
     },
     "execution_count": 48,
     "metadata": {},
     "output_type": "execute_result"
    }
   ],
   "source": [
    "appended_df.drop(columns='Date')"
   ]
  },
  {
   "cell_type": "code",
   "execution_count": 71,
   "metadata": {},
   "outputs": [
    {
     "data": {
      "text/plain": [
       "timestamp\n",
       "8:00:00 9:00:00      226.566667\n",
       "13:00:00 14:00:00    199.650000\n",
       "7:00:00 8:00:00      191.800000\n",
       "12:00:00 13:00:00    190.933333\n",
       "21:00:00 22:00:00    185.433333\n",
       "9:00:00 10:00:00     175.333333\n",
       "11:00:00 12:00:00    171.933333\n",
       "20:00:00 21:00:00    170.450000\n",
       "19:00:00 20:00:00    169.100000\n",
       "16:00:00 17:00:00    155.100000\n",
       "22:00:00 23:00:00    136.966667\n",
       "14:00:00 15:00:00    135.700000\n",
       "10:00:00 11:00:00    121.966667\n",
       "2:00:00 3:00:00      113.483333\n",
       "15:00:00 16:00:00    112.066667\n",
       "18:00:00 19:00:00    104.350000\n",
       "17:00:00 18:00:00     91.600000\n",
       "0:00:00 1:00:00       55.866667\n",
       "1:00:00 2:00:00       46.183333\n",
       "3:00:00 4:00:00       32.900000\n",
       "6:00:00 7:00:00        9.433333\n",
       "4:00:00 5:00:00        4.900000\n",
       "5:00:00 6:00:00        1.183333\n",
       "Name: total_seconds, dtype: float64"
      ]
     },
     "execution_count": 71,
     "metadata": {},
     "output_type": "execute_result"
    }
   ],
   "source": [
    "NEW = appended_df.groupby('timestamp')['total_seconds'].sum().sort_values(ascending=False)\n",
    "NEW"
   ]
  },
  {
   "cell_type": "code",
   "execution_count": 81,
   "metadata": {},
   "outputs": [
    {
     "data": {
      "text/plain": [
       "2802.9"
      ]
     },
     "execution_count": 81,
     "metadata": {},
     "output_type": "execute_result"
    }
   ],
   "source": [
    "NEW.sum()"
   ]
  },
  {
   "cell_type": "code",
   "execution_count": 85,
   "metadata": {},
   "outputs": [
    {
     "data": {
      "image/png": "[encoded data removed]",
      "text/plain": [
       "<Figure size 720x432 with 1 Axes>"
      ]
     },
     "metadata": {
      "needs_background": "light"
     },
     "output_type": "display_data"
    }
   ],
   "source": [
    "import numpy as np\n",
    "# Total\n",
    "total = 2802.9\n",
    "NEW = {\n",
    "    '8:00-9:00': 226.566667,\n",
    "    '13:00-14:00': 199.650000,\n",
    "    '7:00-8:00': 191.800000,\n",
    "    '12:00-13:00': 190.933333,\n",
    "    '21:00-22:00': 185.433333\n",
    "}\n",
    "\n",
    "# Calculate percentages\n",
    "percentages = [(value / total) * 100 for value in NEW.values()]\n",
    "\n",
    "# Extract labels and values for the first 5 points\n",
    "labels = list(NEW.keys())[:5]\n",
    "percentages = percentages[:5]\n",
    "\n",
    "# Plotting\n",
    "plt.figure(figsize=(10, 6))\n",
    "plt.bar(labels, percentages, color='skyblue')\n",
    "plt.xlabel('Time Interval')\n",
    "plt.ylabel('Percentage of Total (%)')\n",
    "plt.title('Percentage Distribution of Mobile Usage')\n",
    "plt.xticks(rotation=45)\n",
    "plt.ylim(0, max(percentages) * 1.2)  # Adjust ylim for better visualization\n",
    "plt.grid(axis='y', linestyle='--', alpha=0.7)\n",
    "plt.tight_layout()\n",
    "plt.show()"
   ]
  },
  {
   "cell_type": "code",
   "execution_count": 50,
   "metadata": {},
   "outputs": [
    {
     "data": {
      "text/html": [
       "<div>\n",
       "<style scoped>\n",
       "    .dataframe tbody tr th:only-of-type {\n",
       "        vertical-align: middle;\n",
       "    }\n",
       "\n",
       "    .dataframe tbody tr th {\n",
       "        vertical-align: top;\n",
       "    }\n",
       "\n",
       "    .dataframe thead th {\n",
       "        text-align: right;\n",
       "    }\n",
       "</style>\n",
       "<table border=\"1\" class=\"dataframe\">\n",
       "  <thead>\n",
       "    <tr style=\"text-align: right;\">\n",
       "      <th></th>\n",
       "      <th>App name</th>\n",
       "      <th>Usage time</th>\n",
       "      <th>Access count</th>\n",
       "    </tr>\n",
       "  </thead>\n",
       "  <tbody>\n",
       "    <tr>\n",
       "      <th>0</th>\n",
       "      <td>Instagram</td>\n",
       "      <td>16:33:15</td>\n",
       "      <td>353</td>\n",
       "    </tr>\n",
       "    <tr>\n",
       "      <th>1</th>\n",
       "      <td>Call</td>\n",
       "      <td>7:09:06</td>\n",
       "      <td>549</td>\n",
       "    </tr>\n",
       "    <tr>\n",
       "      <th>2</th>\n",
       "      <td>YouTube</td>\n",
       "      <td>6:54:05</td>\n",
       "      <td>125</td>\n",
       "    </tr>\n",
       "    <tr>\n",
       "      <th>3</th>\n",
       "      <td>WhatsApp</td>\n",
       "      <td>4:58:22</td>\n",
       "      <td>469</td>\n",
       "    </tr>\n",
       "    <tr>\n",
       "      <th>4</th>\n",
       "      <td>Snapchat</td>\n",
       "      <td>2:11:14</td>\n",
       "      <td>195</td>\n",
       "    </tr>\n",
       "    <tr>\n",
       "      <th>5</th>\n",
       "      <td>Maps</td>\n",
       "      <td>2:00:49</td>\n",
       "      <td>90</td>\n",
       "    </tr>\n",
       "    <tr>\n",
       "      <th>6</th>\n",
       "      <td>Chrome</td>\n",
       "      <td>1:42:34</td>\n",
       "      <td>104</td>\n",
       "    </tr>\n",
       "    <tr>\n",
       "      <th>7</th>\n",
       "      <td>Phone</td>\n",
       "      <td>1:24:10</td>\n",
       "      <td>658</td>\n",
       "    </tr>\n",
       "    <tr>\n",
       "      <th>8</th>\n",
       "      <td>Flipkart</td>\n",
       "      <td>0:48:50</td>\n",
       "      <td>30</td>\n",
       "    </tr>\n",
       "    <tr>\n",
       "      <th>9</th>\n",
       "      <td>PhonePe</td>\n",
       "      <td>0:39:34</td>\n",
       "      <td>161</td>\n",
       "    </tr>\n",
       "    <tr>\n",
       "      <th>10</th>\n",
       "      <td>Spotify</td>\n",
       "      <td>0:36:04</td>\n",
       "      <td>92</td>\n",
       "    </tr>\n",
       "    <tr>\n",
       "      <th>11</th>\n",
       "      <td>GPay</td>\n",
       "      <td>0:24:24</td>\n",
       "      <td>26</td>\n",
       "    </tr>\n",
       "    <tr>\n",
       "      <th>12</th>\n",
       "      <td>Messages</td>\n",
       "      <td>0:17:37</td>\n",
       "      <td>25</td>\n",
       "    </tr>\n",
       "    <tr>\n",
       "      <th>13</th>\n",
       "      <td>Clock</td>\n",
       "      <td>0:12:44</td>\n",
       "      <td>28</td>\n",
       "    </tr>\n",
       "    <tr>\n",
       "      <th>14</th>\n",
       "      <td>Swiggy</td>\n",
       "      <td>0:12:41</td>\n",
       "      <td>14</td>\n",
       "    </tr>\n",
       "    <tr>\n",
       "      <th>15</th>\n",
       "      <td>Google Play Store</td>\n",
       "      <td>0:12:09</td>\n",
       "      <td>24</td>\n",
       "    </tr>\n",
       "    <tr>\n",
       "      <th>16</th>\n",
       "      <td>Camera</td>\n",
       "      <td>0:09:58</td>\n",
       "      <td>27</td>\n",
       "    </tr>\n",
       "    <tr>\n",
       "      <th>17</th>\n",
       "      <td>Gallery</td>\n",
       "      <td>0:09:49</td>\n",
       "      <td>23</td>\n",
       "    </tr>\n",
       "    <tr>\n",
       "      <th>18</th>\n",
       "      <td>Photos</td>\n",
       "      <td>0:09:47</td>\n",
       "      <td>7</td>\n",
       "    </tr>\n",
       "    <tr>\n",
       "      <th>19</th>\n",
       "      <td>Calculator</td>\n",
       "      <td>0:09:23</td>\n",
       "      <td>23</td>\n",
       "    </tr>\n",
       "    <tr>\n",
       "      <th>20</th>\n",
       "      <td>Finder</td>\n",
       "      <td>0:07:38</td>\n",
       "      <td>3</td>\n",
       "    </tr>\n",
       "    <tr>\n",
       "      <th>21</th>\n",
       "      <td>Truecaller</td>\n",
       "      <td>0:05:43</td>\n",
       "      <td>78</td>\n",
       "    </tr>\n",
       "    <tr>\n",
       "      <th>22</th>\n",
       "      <td>BOI Mobile</td>\n",
       "      <td>0:04:27</td>\n",
       "      <td>6</td>\n",
       "    </tr>\n",
       "    <tr>\n",
       "      <th>23</th>\n",
       "      <td>Drive</td>\n",
       "      <td>0:03:59</td>\n",
       "      <td>12</td>\n",
       "    </tr>\n",
       "    <tr>\n",
       "      <th>24</th>\n",
       "      <td>Launcher</td>\n",
       "      <td>0:03:54</td>\n",
       "      <td>63</td>\n",
       "    </tr>\n",
       "    <tr>\n",
       "      <th>25</th>\n",
       "      <td>Amazon</td>\n",
       "      <td>0:03:49</td>\n",
       "      <td>5</td>\n",
       "    </tr>\n",
       "    <tr>\n",
       "      <th>26</th>\n",
       "      <td>Software update</td>\n",
       "      <td>0:02:46</td>\n",
       "      <td>7</td>\n",
       "    </tr>\n",
       "    <tr>\n",
       "      <th>27</th>\n",
       "      <td>Calendar</td>\n",
       "      <td>0:01:51</td>\n",
       "      <td>9</td>\n",
       "    </tr>\n",
       "    <tr>\n",
       "      <th>28</th>\n",
       "      <td>SecSoundPicker</td>\n",
       "      <td>0:01:44</td>\n",
       "      <td>2</td>\n",
       "    </tr>\n",
       "    <tr>\n",
       "      <th>29</th>\n",
       "      <td>Mahalaxmi</td>\n",
       "      <td>0:01:37</td>\n",
       "      <td>1</td>\n",
       "    </tr>\n",
       "    <tr>\n",
       "      <th>30</th>\n",
       "      <td>Package installer</td>\n",
       "      <td>0:01:19</td>\n",
       "      <td>12</td>\n",
       "    </tr>\n",
       "    <tr>\n",
       "      <th>31</th>\n",
       "      <td>NextGen mParivahan</td>\n",
       "      <td>0:01:19</td>\n",
       "      <td>2</td>\n",
       "    </tr>\n",
       "    <tr>\n",
       "      <th>32</th>\n",
       "      <td>Slack</td>\n",
       "      <td>0:01:09</td>\n",
       "      <td>4</td>\n",
       "    </tr>\n",
       "    <tr>\n",
       "      <th>33</th>\n",
       "      <td>Google</td>\n",
       "      <td>0:01:02</td>\n",
       "      <td>13</td>\n",
       "    </tr>\n",
       "    <tr>\n",
       "      <th>34</th>\n",
       "      <td>YONO SBI</td>\n",
       "      <td>0:01:02</td>\n",
       "      <td>2</td>\n",
       "    </tr>\n",
       "    <tr>\n",
       "      <th>35</th>\n",
       "      <td>Digilocker</td>\n",
       "      <td>0:00:54</td>\n",
       "      <td>3</td>\n",
       "    </tr>\n",
       "    <tr>\n",
       "      <th>36</th>\n",
       "      <td>Gmail</td>\n",
       "      <td>0:00:49</td>\n",
       "      <td>9</td>\n",
       "    </tr>\n",
       "    <tr>\n",
       "      <th>37</th>\n",
       "      <td>Digital Wellbeing</td>\n",
       "      <td>0:00:37</td>\n",
       "      <td>1</td>\n",
       "    </tr>\n",
       "    <tr>\n",
       "      <th>38</th>\n",
       "      <td>BOI Mobile</td>\n",
       "      <td>0:00:35</td>\n",
       "      <td>4</td>\n",
       "    </tr>\n",
       "    <tr>\n",
       "      <th>39</th>\n",
       "      <td>Samsung capture</td>\n",
       "      <td>0:00:27</td>\n",
       "      <td>7</td>\n",
       "    </tr>\n",
       "    <tr>\n",
       "      <th>40</th>\n",
       "      <td>MX Player</td>\n",
       "      <td>0:00:27</td>\n",
       "      <td>2</td>\n",
       "    </tr>\n",
       "    <tr>\n",
       "      <th>41</th>\n",
       "      <td>Weather</td>\n",
       "      <td>0:00:22</td>\n",
       "      <td>7</td>\n",
       "    </tr>\n",
       "    <tr>\n",
       "      <th>42</th>\n",
       "      <td>वारणा शेतकरी</td>\n",
       "      <td>0:00:18</td>\n",
       "      <td>2</td>\n",
       "    </tr>\n",
       "    <tr>\n",
       "      <th>43</th>\n",
       "      <td>Permission controller</td>\n",
       "      <td>0:00:14</td>\n",
       "      <td>20</td>\n",
       "    </tr>\n",
       "    <tr>\n",
       "      <th>44</th>\n",
       "      <td>Separate app sound</td>\n",
       "      <td>0:00:11</td>\n",
       "      <td>1</td>\n",
       "    </tr>\n",
       "    <tr>\n",
       "      <th>45</th>\n",
       "      <td>pod.ai</td>\n",
       "      <td>0:00:09</td>\n",
       "      <td>3</td>\n",
       "    </tr>\n",
       "    <tr>\n",
       "      <th>46</th>\n",
       "      <td>App Usage</td>\n",
       "      <td>0:00:06</td>\n",
       "      <td>2</td>\n",
       "    </tr>\n",
       "    <tr>\n",
       "      <th>47</th>\n",
       "      <td>Files</td>\n",
       "      <td>0:00:05</td>\n",
       "      <td>2</td>\n",
       "    </tr>\n",
       "    <tr>\n",
       "      <th>48</th>\n",
       "      <td>My Files</td>\n",
       "      <td>0:00:04</td>\n",
       "      <td>4</td>\n",
       "    </tr>\n",
       "    <tr>\n",
       "      <th>49</th>\n",
       "      <td>Contacts</td>\n",
       "      <td>0:00:03</td>\n",
       "      <td>2</td>\n",
       "    </tr>\n",
       "    <tr>\n",
       "      <th>50</th>\n",
       "      <td>Sound quality and effects</td>\n",
       "      <td>0:00:03</td>\n",
       "      <td>1</td>\n",
       "    </tr>\n",
       "    <tr>\n",
       "      <th>51</th>\n",
       "      <td>Android Auto</td>\n",
       "      <td>0:00:02</td>\n",
       "      <td>2</td>\n",
       "    </tr>\n",
       "    <tr>\n",
       "      <th>52</th>\n",
       "      <td>Print Spooler</td>\n",
       "      <td>0:00:02</td>\n",
       "      <td>1</td>\n",
       "    </tr>\n",
       "    <tr>\n",
       "      <th>53</th>\n",
       "      <td>Gboard</td>\n",
       "      <td>0:00:01</td>\n",
       "      <td>1</td>\n",
       "    </tr>\n",
       "    <tr>\n",
       "      <th>54</th>\n",
       "      <td>Telegram</td>\n",
       "      <td>0:00:01</td>\n",
       "      <td>1</td>\n",
       "    </tr>\n",
       "    <tr>\n",
       "      <th>55</th>\n",
       "      <td>Portrait</td>\n",
       "      <td>0:00:01</td>\n",
       "      <td>2</td>\n",
       "    </tr>\n",
       "    <tr>\n",
       "      <th>56</th>\n",
       "      <td>Media picker</td>\n",
       "      <td>0:00:01</td>\n",
       "      <td>1</td>\n",
       "    </tr>\n",
       "    <tr>\n",
       "      <th>57</th>\n",
       "      <td>CarInfo</td>\n",
       "      <td>0:00:01</td>\n",
       "      <td>1</td>\n",
       "    </tr>\n",
       "    <tr>\n",
       "      <th>58</th>\n",
       "      <td>Phone calls</td>\n",
       "      <td>0:00:00</td>\n",
       "      <td>1</td>\n",
       "    </tr>\n",
       "    <tr>\n",
       "      <th>59</th>\n",
       "      <td>Authenticator</td>\n",
       "      <td>0:00:00</td>\n",
       "      <td>1</td>\n",
       "    </tr>\n",
       "  </tbody>\n",
       "</table>\n",
       "</div>"
      ],
      "text/plain": [
       "                     App name Usage time  Access count\n",
       "0                   Instagram   16:33:15           353\n",
       "1                        Call    7:09:06           549\n",
       "2                     YouTube    6:54:05           125\n",
       "3                    WhatsApp    4:58:22           469\n",
       "4                    Snapchat    2:11:14           195\n",
       "5                        Maps    2:00:49            90\n",
       "6                      Chrome    1:42:34           104\n",
       "7                       Phone    1:24:10           658\n",
       "8                    Flipkart    0:48:50            30\n",
       "9                     PhonePe    0:39:34           161\n",
       "10                    Spotify    0:36:04            92\n",
       "11                       GPay    0:24:24            26\n",
       "12                   Messages    0:17:37            25\n",
       "13                      Clock    0:12:44            28\n",
       "14                     Swiggy    0:12:41            14\n",
       "15          Google Play Store    0:12:09            24\n",
       "16                     Camera    0:09:58            27\n",
       "17                    Gallery    0:09:49            23\n",
       "18                     Photos    0:09:47             7\n",
       "19                 Calculator    0:09:23            23\n",
       "20                     Finder    0:07:38             3\n",
       "21                 Truecaller    0:05:43            78\n",
       "22                 BOI Mobile    0:04:27             6\n",
       "23                      Drive    0:03:59            12\n",
       "24                   Launcher    0:03:54            63\n",
       "25                     Amazon    0:03:49             5\n",
       "26            Software update    0:02:46             7\n",
       "27                   Calendar    0:01:51             9\n",
       "28             SecSoundPicker    0:01:44             2\n",
       "29                  Mahalaxmi    0:01:37             1\n",
       "30          Package installer    0:01:19            12\n",
       "31         NextGen mParivahan    0:01:19             2\n",
       "32                      Slack    0:01:09             4\n",
       "33                     Google    0:01:02            13\n",
       "34                   YONO SBI    0:01:02             2\n",
       "35                 Digilocker    0:00:54             3\n",
       "36                      Gmail    0:00:49             9\n",
       "37          Digital Wellbeing    0:00:37             1\n",
       "38                 BOI Mobile    0:00:35             4\n",
       "39            Samsung capture    0:00:27             7\n",
       "40                  MX Player    0:00:27             2\n",
       "41                    Weather    0:00:22             7\n",
       "42               वारणा शेतकरी    0:00:18             2\n",
       "43      Permission controller    0:00:14            20\n",
       "44         Separate app sound    0:00:11             1\n",
       "45                     pod.ai    0:00:09             3\n",
       "46                  App Usage    0:00:06             2\n",
       "47                      Files    0:00:05             2\n",
       "48                   My Files    0:00:04             4\n",
       "49                   Contacts    0:00:03             2\n",
       "50  Sound quality and effects    0:00:03             1\n",
       "51               Android Auto    0:00:02             2\n",
       "52              Print Spooler    0:00:02             1\n",
       "53                     Gboard    0:00:01             1\n",
       "54                   Telegram    0:00:01             1\n",
       "55                   Portrait    0:00:01             2\n",
       "56               Media picker    0:00:01             1\n",
       "57                    CarInfo    0:00:01             1\n",
       "58                Phone calls    0:00:00             1\n",
       "59              Authenticator    0:00:00             1"
      ]
     },
     "execution_count": 50,
     "metadata": {},
     "output_type": "execute_result"
    }
   ],
   "source": [
    "#data is from 18/3 to 8/3\n",
    "usg = pd.read_csv('usages.csv')\n",
    "usg"
   ]
  },
  {
   "cell_type": "code",
   "execution_count": 51,
   "metadata": {},
   "outputs": [],
   "source": [
    "usg.rename(columns={'Usage time':'usage_time','Access count':'ascess_count','App name':'appname'},inplace=True)"
   ]
  },
  {
   "cell_type": "code",
   "execution_count": 52,
   "metadata": {},
   "outputs": [],
   "source": [
    "usg['usage_time'] = pd.to_timedelta(usg['usage_time'])"
   ]
  },
  {
   "cell_type": "code",
   "execution_count": 53,
   "metadata": {},
   "outputs": [],
   "source": [
    "usg['usage_time'] = usg['usage_time'].dt.total_seconds()"
   ]
  },
  {
   "cell_type": "code",
   "execution_count": 54,
   "metadata": {},
   "outputs": [
    {
     "data": {
      "text/html": [
       "<div>\n",
       "<style scoped>\n",
       "    .dataframe tbody tr th:only-of-type {\n",
       "        vertical-align: middle;\n",
       "    }\n",
       "\n",
       "    .dataframe tbody tr th {\n",
       "        vertical-align: top;\n",
       "    }\n",
       "\n",
       "    .dataframe thead th {\n",
       "        text-align: right;\n",
       "    }\n",
       "</style>\n",
       "<table border=\"1\" class=\"dataframe\">\n",
       "  <thead>\n",
       "    <tr style=\"text-align: right;\">\n",
       "      <th></th>\n",
       "      <th>appname</th>\n",
       "      <th>usage_time</th>\n",
       "      <th>ascess_count</th>\n",
       "    </tr>\n",
       "  </thead>\n",
       "  <tbody>\n",
       "    <tr>\n",
       "      <th>0</th>\n",
       "      <td>Instagram</td>\n",
       "      <td>59595.0</td>\n",
       "      <td>353</td>\n",
       "    </tr>\n",
       "    <tr>\n",
       "      <th>1</th>\n",
       "      <td>Call</td>\n",
       "      <td>25746.0</td>\n",
       "      <td>549</td>\n",
       "    </tr>\n",
       "    <tr>\n",
       "      <th>2</th>\n",
       "      <td>YouTube</td>\n",
       "      <td>24845.0</td>\n",
       "      <td>125</td>\n",
       "    </tr>\n",
       "    <tr>\n",
       "      <th>3</th>\n",
       "      <td>WhatsApp</td>\n",
       "      <td>17902.0</td>\n",
       "      <td>469</td>\n",
       "    </tr>\n",
       "    <tr>\n",
       "      <th>4</th>\n",
       "      <td>Snapchat</td>\n",
       "      <td>7874.0</td>\n",
       "      <td>195</td>\n",
       "    </tr>\n",
       "    <tr>\n",
       "      <th>5</th>\n",
       "      <td>Maps</td>\n",
       "      <td>7249.0</td>\n",
       "      <td>90</td>\n",
       "    </tr>\n",
       "    <tr>\n",
       "      <th>6</th>\n",
       "      <td>Chrome</td>\n",
       "      <td>6154.0</td>\n",
       "      <td>104</td>\n",
       "    </tr>\n",
       "    <tr>\n",
       "      <th>7</th>\n",
       "      <td>Phone</td>\n",
       "      <td>5050.0</td>\n",
       "      <td>658</td>\n",
       "    </tr>\n",
       "    <tr>\n",
       "      <th>8</th>\n",
       "      <td>Flipkart</td>\n",
       "      <td>2930.0</td>\n",
       "      <td>30</td>\n",
       "    </tr>\n",
       "    <tr>\n",
       "      <th>9</th>\n",
       "      <td>PhonePe</td>\n",
       "      <td>2374.0</td>\n",
       "      <td>161</td>\n",
       "    </tr>\n",
       "    <tr>\n",
       "      <th>10</th>\n",
       "      <td>Spotify</td>\n",
       "      <td>2164.0</td>\n",
       "      <td>92</td>\n",
       "    </tr>\n",
       "    <tr>\n",
       "      <th>11</th>\n",
       "      <td>GPay</td>\n",
       "      <td>1464.0</td>\n",
       "      <td>26</td>\n",
       "    </tr>\n",
       "    <tr>\n",
       "      <th>12</th>\n",
       "      <td>Messages</td>\n",
       "      <td>1057.0</td>\n",
       "      <td>25</td>\n",
       "    </tr>\n",
       "    <tr>\n",
       "      <th>13</th>\n",
       "      <td>Clock</td>\n",
       "      <td>764.0</td>\n",
       "      <td>28</td>\n",
       "    </tr>\n",
       "    <tr>\n",
       "      <th>14</th>\n",
       "      <td>Swiggy</td>\n",
       "      <td>761.0</td>\n",
       "      <td>14</td>\n",
       "    </tr>\n",
       "    <tr>\n",
       "      <th>15</th>\n",
       "      <td>Google Play Store</td>\n",
       "      <td>729.0</td>\n",
       "      <td>24</td>\n",
       "    </tr>\n",
       "    <tr>\n",
       "      <th>16</th>\n",
       "      <td>Camera</td>\n",
       "      <td>598.0</td>\n",
       "      <td>27</td>\n",
       "    </tr>\n",
       "    <tr>\n",
       "      <th>17</th>\n",
       "      <td>Gallery</td>\n",
       "      <td>589.0</td>\n",
       "      <td>23</td>\n",
       "    </tr>\n",
       "    <tr>\n",
       "      <th>18</th>\n",
       "      <td>Photos</td>\n",
       "      <td>587.0</td>\n",
       "      <td>7</td>\n",
       "    </tr>\n",
       "    <tr>\n",
       "      <th>19</th>\n",
       "      <td>Calculator</td>\n",
       "      <td>563.0</td>\n",
       "      <td>23</td>\n",
       "    </tr>\n",
       "    <tr>\n",
       "      <th>20</th>\n",
       "      <td>Finder</td>\n",
       "      <td>458.0</td>\n",
       "      <td>3</td>\n",
       "    </tr>\n",
       "    <tr>\n",
       "      <th>21</th>\n",
       "      <td>Truecaller</td>\n",
       "      <td>343.0</td>\n",
       "      <td>78</td>\n",
       "    </tr>\n",
       "    <tr>\n",
       "      <th>22</th>\n",
       "      <td>BOI Mobile</td>\n",
       "      <td>267.0</td>\n",
       "      <td>6</td>\n",
       "    </tr>\n",
       "    <tr>\n",
       "      <th>23</th>\n",
       "      <td>Drive</td>\n",
       "      <td>239.0</td>\n",
       "      <td>12</td>\n",
       "    </tr>\n",
       "    <tr>\n",
       "      <th>24</th>\n",
       "      <td>Launcher</td>\n",
       "      <td>234.0</td>\n",
       "      <td>63</td>\n",
       "    </tr>\n",
       "    <tr>\n",
       "      <th>25</th>\n",
       "      <td>Amazon</td>\n",
       "      <td>229.0</td>\n",
       "      <td>5</td>\n",
       "    </tr>\n",
       "    <tr>\n",
       "      <th>26</th>\n",
       "      <td>Software update</td>\n",
       "      <td>166.0</td>\n",
       "      <td>7</td>\n",
       "    </tr>\n",
       "    <tr>\n",
       "      <th>27</th>\n",
       "      <td>Calendar</td>\n",
       "      <td>111.0</td>\n",
       "      <td>9</td>\n",
       "    </tr>\n",
       "    <tr>\n",
       "      <th>28</th>\n",
       "      <td>SecSoundPicker</td>\n",
       "      <td>104.0</td>\n",
       "      <td>2</td>\n",
       "    </tr>\n",
       "    <tr>\n",
       "      <th>29</th>\n",
       "      <td>Mahalaxmi</td>\n",
       "      <td>97.0</td>\n",
       "      <td>1</td>\n",
       "    </tr>\n",
       "    <tr>\n",
       "      <th>30</th>\n",
       "      <td>Package installer</td>\n",
       "      <td>79.0</td>\n",
       "      <td>12</td>\n",
       "    </tr>\n",
       "    <tr>\n",
       "      <th>31</th>\n",
       "      <td>NextGen mParivahan</td>\n",
       "      <td>79.0</td>\n",
       "      <td>2</td>\n",
       "    </tr>\n",
       "    <tr>\n",
       "      <th>32</th>\n",
       "      <td>Slack</td>\n",
       "      <td>69.0</td>\n",
       "      <td>4</td>\n",
       "    </tr>\n",
       "    <tr>\n",
       "      <th>33</th>\n",
       "      <td>Google</td>\n",
       "      <td>62.0</td>\n",
       "      <td>13</td>\n",
       "    </tr>\n",
       "    <tr>\n",
       "      <th>34</th>\n",
       "      <td>YONO SBI</td>\n",
       "      <td>62.0</td>\n",
       "      <td>2</td>\n",
       "    </tr>\n",
       "    <tr>\n",
       "      <th>35</th>\n",
       "      <td>Digilocker</td>\n",
       "      <td>54.0</td>\n",
       "      <td>3</td>\n",
       "    </tr>\n",
       "    <tr>\n",
       "      <th>36</th>\n",
       "      <td>Gmail</td>\n",
       "      <td>49.0</td>\n",
       "      <td>9</td>\n",
       "    </tr>\n",
       "    <tr>\n",
       "      <th>37</th>\n",
       "      <td>Digital Wellbeing</td>\n",
       "      <td>37.0</td>\n",
       "      <td>1</td>\n",
       "    </tr>\n",
       "    <tr>\n",
       "      <th>38</th>\n",
       "      <td>BOI Mobile</td>\n",
       "      <td>35.0</td>\n",
       "      <td>4</td>\n",
       "    </tr>\n",
       "    <tr>\n",
       "      <th>39</th>\n",
       "      <td>Samsung capture</td>\n",
       "      <td>27.0</td>\n",
       "      <td>7</td>\n",
       "    </tr>\n",
       "    <tr>\n",
       "      <th>40</th>\n",
       "      <td>MX Player</td>\n",
       "      <td>27.0</td>\n",
       "      <td>2</td>\n",
       "    </tr>\n",
       "    <tr>\n",
       "      <th>41</th>\n",
       "      <td>Weather</td>\n",
       "      <td>22.0</td>\n",
       "      <td>7</td>\n",
       "    </tr>\n",
       "    <tr>\n",
       "      <th>42</th>\n",
       "      <td>वारणा शेतकरी</td>\n",
       "      <td>18.0</td>\n",
       "      <td>2</td>\n",
       "    </tr>\n",
       "    <tr>\n",
       "      <th>43</th>\n",
       "      <td>Permission controller</td>\n",
       "      <td>14.0</td>\n",
       "      <td>20</td>\n",
       "    </tr>\n",
       "    <tr>\n",
       "      <th>44</th>\n",
       "      <td>Separate app sound</td>\n",
       "      <td>11.0</td>\n",
       "      <td>1</td>\n",
       "    </tr>\n",
       "    <tr>\n",
       "      <th>45</th>\n",
       "      <td>pod.ai</td>\n",
       "      <td>9.0</td>\n",
       "      <td>3</td>\n",
       "    </tr>\n",
       "    <tr>\n",
       "      <th>46</th>\n",
       "      <td>App Usage</td>\n",
       "      <td>6.0</td>\n",
       "      <td>2</td>\n",
       "    </tr>\n",
       "    <tr>\n",
       "      <th>47</th>\n",
       "      <td>Files</td>\n",
       "      <td>5.0</td>\n",
       "      <td>2</td>\n",
       "    </tr>\n",
       "    <tr>\n",
       "      <th>48</th>\n",
       "      <td>My Files</td>\n",
       "      <td>4.0</td>\n",
       "      <td>4</td>\n",
       "    </tr>\n",
       "    <tr>\n",
       "      <th>49</th>\n",
       "      <td>Contacts</td>\n",
       "      <td>3.0</td>\n",
       "      <td>2</td>\n",
       "    </tr>\n",
       "    <tr>\n",
       "      <th>50</th>\n",
       "      <td>Sound quality and effects</td>\n",
       "      <td>3.0</td>\n",
       "      <td>1</td>\n",
       "    </tr>\n",
       "    <tr>\n",
       "      <th>51</th>\n",
       "      <td>Android Auto</td>\n",
       "      <td>2.0</td>\n",
       "      <td>2</td>\n",
       "    </tr>\n",
       "    <tr>\n",
       "      <th>52</th>\n",
       "      <td>Print Spooler</td>\n",
       "      <td>2.0</td>\n",
       "      <td>1</td>\n",
       "    </tr>\n",
       "    <tr>\n",
       "      <th>53</th>\n",
       "      <td>Gboard</td>\n",
       "      <td>1.0</td>\n",
       "      <td>1</td>\n",
       "    </tr>\n",
       "    <tr>\n",
       "      <th>54</th>\n",
       "      <td>Telegram</td>\n",
       "      <td>1.0</td>\n",
       "      <td>1</td>\n",
       "    </tr>\n",
       "    <tr>\n",
       "      <th>55</th>\n",
       "      <td>Portrait</td>\n",
       "      <td>1.0</td>\n",
       "      <td>2</td>\n",
       "    </tr>\n",
       "    <tr>\n",
       "      <th>56</th>\n",
       "      <td>Media picker</td>\n",
       "      <td>1.0</td>\n",
       "      <td>1</td>\n",
       "    </tr>\n",
       "    <tr>\n",
       "      <th>57</th>\n",
       "      <td>CarInfo</td>\n",
       "      <td>1.0</td>\n",
       "      <td>1</td>\n",
       "    </tr>\n",
       "    <tr>\n",
       "      <th>58</th>\n",
       "      <td>Phone calls</td>\n",
       "      <td>0.0</td>\n",
       "      <td>1</td>\n",
       "    </tr>\n",
       "    <tr>\n",
       "      <th>59</th>\n",
       "      <td>Authenticator</td>\n",
       "      <td>0.0</td>\n",
       "      <td>1</td>\n",
       "    </tr>\n",
       "  </tbody>\n",
       "</table>\n",
       "</div>"
      ],
      "text/plain": [
       "                      appname  usage_time  ascess_count\n",
       "0                   Instagram     59595.0           353\n",
       "1                        Call     25746.0           549\n",
       "2                     YouTube     24845.0           125\n",
       "3                    WhatsApp     17902.0           469\n",
       "4                    Snapchat      7874.0           195\n",
       "5                        Maps      7249.0            90\n",
       "6                      Chrome      6154.0           104\n",
       "7                       Phone      5050.0           658\n",
       "8                    Flipkart      2930.0            30\n",
       "9                     PhonePe      2374.0           161\n",
       "10                    Spotify      2164.0            92\n",
       "11                       GPay      1464.0            26\n",
       "12                   Messages      1057.0            25\n",
       "13                      Clock       764.0            28\n",
       "14                     Swiggy       761.0            14\n",
       "15          Google Play Store       729.0            24\n",
       "16                     Camera       598.0            27\n",
       "17                    Gallery       589.0            23\n",
       "18                     Photos       587.0             7\n",
       "19                 Calculator       563.0            23\n",
       "20                     Finder       458.0             3\n",
       "21                 Truecaller       343.0            78\n",
       "22                 BOI Mobile       267.0             6\n",
       "23                      Drive       239.0            12\n",
       "24                   Launcher       234.0            63\n",
       "25                     Amazon       229.0             5\n",
       "26            Software update       166.0             7\n",
       "27                   Calendar       111.0             9\n",
       "28             SecSoundPicker       104.0             2\n",
       "29                  Mahalaxmi        97.0             1\n",
       "30          Package installer        79.0            12\n",
       "31         NextGen mParivahan        79.0             2\n",
       "32                      Slack        69.0             4\n",
       "33                     Google        62.0            13\n",
       "34                   YONO SBI        62.0             2\n",
       "35                 Digilocker        54.0             3\n",
       "36                      Gmail        49.0             9\n",
       "37          Digital Wellbeing        37.0             1\n",
       "38                 BOI Mobile        35.0             4\n",
       "39            Samsung capture        27.0             7\n",
       "40                  MX Player        27.0             2\n",
       "41                    Weather        22.0             7\n",
       "42               वारणा शेतकरी        18.0             2\n",
       "43      Permission controller        14.0            20\n",
       "44         Separate app sound        11.0             1\n",
       "45                     pod.ai         9.0             3\n",
       "46                  App Usage         6.0             2\n",
       "47                      Files         5.0             2\n",
       "48                   My Files         4.0             4\n",
       "49                   Contacts         3.0             2\n",
       "50  Sound quality and effects         3.0             1\n",
       "51               Android Auto         2.0             2\n",
       "52              Print Spooler         2.0             1\n",
       "53                     Gboard         1.0             1\n",
       "54                   Telegram         1.0             1\n",
       "55                   Portrait         1.0             2\n",
       "56               Media picker         1.0             1\n",
       "57                    CarInfo         1.0             1\n",
       "58                Phone calls         0.0             1\n",
       "59              Authenticator         0.0             1"
      ]
     },
     "execution_count": 54,
     "metadata": {},
     "output_type": "execute_result"
    }
   ],
   "source": [
    "usg"
   ]
  },
  {
   "cell_type": "code",
   "execution_count": 55,
   "metadata": {},
   "outputs": [],
   "source": [
    "#catagorise the columns\n",
    "app_social = ['Instagram','YouTube','Snapchat']\n",
    "app_entertain = ['YouTube','Spotify','MX Player']\n",
    "app_productive = ['WhatsApp','Maps','Chrome','Phone','Call','Messages']\n",
    "app_ecom = ['Flipkart','PhonePe','GPay','Amazon','Swiggy']\n"
   ]
  },
  {
   "cell_type": "code",
   "execution_count": 56,
   "metadata": {},
   "outputs": [],
   "source": [
    "usg.replace(app_social,'SOCIALMEDIA',inplace=True)\n",
    "usg.replace(app_entertain,'ENTERTAINMENT',inplace=True)\n",
    "usg.replace(app_productive,'PRODUCTIVITY',inplace=True)\n",
    "usg.replace(app_ecom,'ECOM',inplace=True)"
   ]
  },
  {
   "cell_type": "code",
   "execution_count": 57,
   "metadata": {},
   "outputs": [],
   "source": [
    "categories_to_keep = ['SOCIALMEDIA', 'ENTERTAINMENT', 'PRODUCTIVITY', 'ECOM']\n",
    "usg = usg[usg['appname'].isin(categories_to_keep)]\n"
   ]
  },
  {
   "cell_type": "code",
   "execution_count": 58,
   "metadata": {},
   "outputs": [],
   "source": [
    "usg = usg.groupby('appname').sum()\n",
    "usg.reset_index(inplace=True)"
   ]
  },
  {
   "cell_type": "code",
   "execution_count": 59,
   "metadata": {},
   "outputs": [
    {
     "data": {
      "text/html": [
       "<div>\n",
       "<style scoped>\n",
       "    .dataframe tbody tr th:only-of-type {\n",
       "        vertical-align: middle;\n",
       "    }\n",
       "\n",
       "    .dataframe tbody tr th {\n",
       "        vertical-align: top;\n",
       "    }\n",
       "\n",
       "    .dataframe thead th {\n",
       "        text-align: right;\n",
       "    }\n",
       "</style>\n",
       "<table border=\"1\" class=\"dataframe\">\n",
       "  <thead>\n",
       "    <tr style=\"text-align: right;\">\n",
       "      <th></th>\n",
       "      <th>appname</th>\n",
       "      <th>usage_time</th>\n",
       "      <th>ascess_count</th>\n",
       "    </tr>\n",
       "  </thead>\n",
       "  <tbody>\n",
       "    <tr>\n",
       "      <th>0</th>\n",
       "      <td>ECOM</td>\n",
       "      <td>7758.0</td>\n",
       "      <td>236</td>\n",
       "    </tr>\n",
       "    <tr>\n",
       "      <th>1</th>\n",
       "      <td>ENTERTAINMENT</td>\n",
       "      <td>2191.0</td>\n",
       "      <td>94</td>\n",
       "    </tr>\n",
       "    <tr>\n",
       "      <th>2</th>\n",
       "      <td>PRODUCTIVITY</td>\n",
       "      <td>63158.0</td>\n",
       "      <td>1895</td>\n",
       "    </tr>\n",
       "    <tr>\n",
       "      <th>3</th>\n",
       "      <td>SOCIALMEDIA</td>\n",
       "      <td>92314.0</td>\n",
       "      <td>673</td>\n",
       "    </tr>\n",
       "  </tbody>\n",
       "</table>\n",
       "</div>"
      ],
      "text/plain": [
       "         appname  usage_time  ascess_count\n",
       "0           ECOM      7758.0           236\n",
       "1  ENTERTAINMENT      2191.0            94\n",
       "2   PRODUCTIVITY     63158.0          1895\n",
       "3    SOCIALMEDIA     92314.0           673"
      ]
     },
     "execution_count": 59,
     "metadata": {},
     "output_type": "execute_result"
    }
   ],
   "source": [
    "usg"
   ]
  },
  {
   "cell_type": "code",
   "execution_count": 62,
   "metadata": {},
   "outputs": [
    {
     "data": {
      "application/vnd.plotly.v1+json": {
       "config": {
        "plotlyServerURL": "https://plot.ly"
       },
       "data": [
        {
         "customdata": [
          [
           "ECOM",
           236
          ],
          [
           "ENTERTAINMENT",
           94
          ],
          [
           "PRODUCTIVITY",
           1895
          ],
          [
           "SOCIALMEDIA",
           673
          ]
         ],
         "domain": {
          "x": [
           0,
           1
          ],
          "y": [
           0,
           1
          ]
         },
         "hovertemplate": "appname=%{customdata[0]}<br>usage_time=%{value}<br>ascess_count=%{customdata[1]}<extra></extra>",
         "labels": [
          "ECOM",
          "ENTERTAINMENT",
          "PRODUCTIVITY",
          "SOCIALMEDIA"
         ],
         "legendgroup": "",
         "name": "",
         "showlegend": true,
         "textinfo": "percent+label",
         "textposition": "inside",
         "type": "pie",
         "values": [
          7758,
          2191,
          63158,
          92314.00000000001
         ]
        }
       ],
       "layout": {
        "legend": {
         "title": {
          "text": "App Name"
         },
         "tracegroupgap": 0
        },
        "margin": {
         "b": 50,
         "l": 50,
         "r": 50,
         "t": 50
        },
        "piecolorway": [
         "rgb(102, 197, 204)",
         "rgb(246, 207, 113)",
         "rgb(248, 156, 116)",
         "rgb(220, 176, 242)",
         "rgb(135, 197, 95)",
         "rgb(158, 185, 243)",
         "rgb(254, 136, 177)",
         "rgb(201, 219, 116)",
         "rgb(139, 224, 164)",
         "rgb(180, 151, 231)",
         "rgb(179, 179, 179)"
        ],
        "showlegend": true,
        "template": {
         "data": {
          "bar": [
           {
            "error_x": {
             "color": "#2a3f5f"
            },
            "error_y": {
             "color": "#2a3f5f"
            },
            "marker": {
             "line": {
              "color": "#E5ECF6",
              "width": 0.5
             },
             "pattern": {
              "fillmode": "overlay",
              "size": 10,
              "solidity": 0.2
             }
            },
            "type": "bar"
           }
          ],
          "barpolar": [
           {
            "marker": {
             "line": {
              "color": "#E5ECF6",
              "width": 0.5
             },
             "pattern": {
              "fillmode": "overlay",
              "size": 10,
              "solidity": 0.2
             }
            },
            "type": "barpolar"
           }
          ],
          "carpet": [
           {
            "aaxis": {
             "endlinecolor": "#2a3f5f",
             "gridcolor": "white",
             "linecolor": "white",
             "minorgridcolor": "white",
             "startlinecolor": "#2a3f5f"
            },
            "baxis": {
             "endlinecolor": "#2a3f5f",
             "gridcolor": "white",
             "linecolor": "white",
             "minorgridcolor": "white",
             "startlinecolor": "#2a3f5f"
            },
            "type": "carpet"
           }
          ],
          "choropleth": [
           {
            "colorbar": {
             "outlinewidth": 0,
             "ticks": ""
            },
            "type": "choropleth"
           }
          ],
          "contour": [
           {
            "colorbar": {
             "outlinewidth": 0,
             "ticks": ""
            },
            "colorscale": [
             [
              0,
              "#0d0887"
             ],
             [
              0.1111111111111111,
              "#46039f"
             ],
             [
              0.2222222222222222,
              "#7201a8"
             ],
             [
              0.3333333333333333,
              "#9c179e"
             ],
             [
              0.4444444444444444,
              "#bd3786"
             ],
             [
              0.5555555555555556,
              "#d8576b"
             ],
             [
              0.6666666666666666,
              "#ed7953"
             ],
             [
              0.7777777777777778,
              "#fb9f3a"
             ],
             [
              0.8888888888888888,
              "#fdca26"
             ],
             [
              1,
              "#f0f921"
             ]
            ],
            "type": "contour"
           }
          ],
          "contourcarpet": [
           {
            "colorbar": {
             "outlinewidth": 0,
             "ticks": ""
            },
            "type": "contourcarpet"
           }
          ],
          "heatmap": [
           {
            "colorbar": {
             "outlinewidth": 0,
             "ticks": ""
            },
            "colorscale": [
             [
              0,
              "#0d0887"
             ],
             [
              0.1111111111111111,
              "#46039f"
             ],
             [
              0.2222222222222222,
              "#7201a8"
             ],
             [
              0.3333333333333333,
              "#9c179e"
             ],
             [
              0.4444444444444444,
              "#bd3786"
             ],
             [
              0.5555555555555556,
              "#d8576b"
             ],
             [
              0.6666666666666666,
              "#ed7953"
             ],
             [
              0.7777777777777778,
              "#fb9f3a"
             ],
             [
              0.8888888888888888,
              "#fdca26"
             ],
             [
              1,
              "#f0f921"
             ]
            ],
            "type": "heatmap"
           }
          ],
          "heatmapgl": [
           {
            "colorbar": {
             "outlinewidth": 0,
             "ticks": ""
            },
            "colorscale": [
             [
              0,
              "#0d0887"
             ],
             [
              0.1111111111111111,
              "#46039f"
             ],
             [
              0.2222222222222222,
              "#7201a8"
             ],
             [
              0.3333333333333333,
              "#9c179e"
             ],
             [
              0.4444444444444444,
              "#bd3786"
             ],
             [
              0.5555555555555556,
              "#d8576b"
             ],
             [
              0.6666666666666666,
              "#ed7953"
             ],
             [
              0.7777777777777778,
              "#fb9f3a"
             ],
             [
              0.8888888888888888,
              "#fdca26"
             ],
             [
              1,
              "#f0f921"
             ]
            ],
            "type": "heatmapgl"
           }
          ],
          "histogram": [
           {
            "marker": {
             "pattern": {
              "fillmode": "overlay",
              "size": 10,
              "solidity": 0.2
             }
            },
            "type": "histogram"
           }
          ],
          "histogram2d": [
           {
            "colorbar": {
             "outlinewidth": 0,
             "ticks": ""
            },
            "colorscale": [
             [
              0,
              "#0d0887"
             ],
             [
              0.1111111111111111,
              "#46039f"
             ],
             [
              0.2222222222222222,
              "#7201a8"
             ],
             [
              0.3333333333333333,
              "#9c179e"
             ],
             [
              0.4444444444444444,
              "#bd3786"
             ],
             [
              0.5555555555555556,
              "#d8576b"
             ],
             [
              0.6666666666666666,
              "#ed7953"
             ],
             [
              0.7777777777777778,
              "#fb9f3a"
             ],
             [
              0.8888888888888888,
              "#fdca26"
             ],
             [
              1,
              "#f0f921"
             ]
            ],
            "type": "histogram2d"
           }
          ],
          "histogram2dcontour": [
           {
            "colorbar": {
             "outlinewidth": 0,
             "ticks": ""
            },
            "colorscale": [
             [
              0,
              "#0d0887"
             ],
             [
              0.1111111111111111,
              "#46039f"
             ],
             [
              0.2222222222222222,
              "#7201a8"
             ],
             [
              0.3333333333333333,
              "#9c179e"
             ],
             [
              0.4444444444444444,
              "#bd3786"
             ],
             [
              0.5555555555555556,
              "#d8576b"
             ],
             [
              0.6666666666666666,
              "#ed7953"
             ],
             [
              0.7777777777777778,
              "#fb9f3a"
             ],
             [
              0.8888888888888888,
              "#fdca26"
             ],
             [
              1,
              "#f0f921"
             ]
            ],
            "type": "histogram2dcontour"
           }
          ],
          "mesh3d": [
           {
            "colorbar": {
             "outlinewidth": 0,
             "ticks": ""
            },
            "type": "mesh3d"
           }
          ],
          "parcoords": [
           {
            "line": {
             "colorbar": {
              "outlinewidth": 0,
              "ticks": ""
             }
            },
            "type": "parcoords"
           }
          ],
          "pie": [
           {
            "automargin": true,
            "type": "pie"
           }
          ],
          "scatter": [
           {
            "fillpattern": {
             "fillmode": "overlay",
             "size": 10,
             "solidity": 0.2
            },
            "type": "scatter"
           }
          ],
          "scatter3d": [
           {
            "line": {
             "colorbar": {
              "outlinewidth": 0,
              "ticks": ""
             }
            },
            "marker": {
             "colorbar": {
              "outlinewidth": 0,
              "ticks": ""
             }
            },
            "type": "scatter3d"
           }
          ],
          "scattercarpet": [
           {
            "marker": {
             "colorbar": {
              "outlinewidth": 0,
              "ticks": ""
             }
            },
            "type": "scattercarpet"
           }
          ],
          "scattergeo": [
           {
            "marker": {
             "colorbar": {
              "outlinewidth": 0,
              "ticks": ""
             }
            },
            "type": "scattergeo"
           }
          ],
          "scattergl": [
           {
            "marker": {
             "colorbar": {
              "outlinewidth": 0,
              "ticks": ""
             }
            },
            "type": "scattergl"
           }
          ],
          "scattermapbox": [
           {
            "marker": {
             "colorbar": {
              "outlinewidth": 0,
              "ticks": ""
             }
            },
            "type": "scattermapbox"
           }
          ],
          "scatterpolar": [
           {
            "marker": {
             "colorbar": {
              "outlinewidth": 0,
              "ticks": ""
             }
            },
            "type": "scatterpolar"
           }
          ],
          "scatterpolargl": [
           {
            "marker": {
             "colorbar": {
              "outlinewidth": 0,
              "ticks": ""
             }
            },
            "type": "scatterpolargl"
           }
          ],
          "scatterternary": [
           {
            "marker": {
             "colorbar": {
              "outlinewidth": 0,
              "ticks": ""
             }
            },
            "type": "scatterternary"
           }
          ],
          "surface": [
           {
            "colorbar": {
             "outlinewidth": 0,
             "ticks": ""
            },
            "colorscale": [
             [
              0,
              "#0d0887"
             ],
             [
              0.1111111111111111,
              "#46039f"
             ],
             [
              0.2222222222222222,
              "#7201a8"
             ],
             [
              0.3333333333333333,
              "#9c179e"
             ],
             [
              0.4444444444444444,
              "#bd3786"
             ],
             [
              0.5555555555555556,
              "#d8576b"
             ],
             [
              0.6666666666666666,
              "#ed7953"
             ],
             [
              0.7777777777777778,
              "#fb9f3a"
             ],
             [
              0.8888888888888888,
              "#fdca26"
             ],
             [
              1,
              "#f0f921"
             ]
            ],
            "type": "surface"
           }
          ],
          "table": [
           {
            "cells": {
             "fill": {
              "color": "#EBF0F8"
             },
             "line": {
              "color": "white"
             }
            },
            "header": {
             "fill": {
              "color": "#C8D4E3"
             },
             "line": {
              "color": "white"
             }
            },
            "type": "table"
           }
          ]
         },
         "layout": {
          "annotationdefaults": {
           "arrowcolor": "#2a3f5f",
           "arrowhead": 0,
           "arrowwidth": 1
          },
          "autotypenumbers": "strict",
          "coloraxis": {
           "colorbar": {
            "outlinewidth": 0,
            "ticks": ""
           }
          },
          "colorscale": {
           "diverging": [
            [
             0,
             "#8e0152"
            ],
            [
             0.1,
             "#c51b7d"
            ],
            [
             0.2,
             "#de77ae"
            ],
            [
             0.3,
             "#f1b6da"
            ],
            [
             0.4,
             "#fde0ef"
            ],
            [
             0.5,
             "#f7f7f7"
            ],
            [
             0.6,
             "#e6f5d0"
            ],
            [
             0.7,
             "#b8e186"
            ],
            [
             0.8,
             "#7fbc41"
            ],
            [
             0.9,
             "#4d9221"
            ],
            [
             1,
             "#276419"
            ]
           ],
           "sequential": [
            [
             0,
             "#0d0887"
            ],
            [
             0.1111111111111111,
             "#46039f"
            ],
            [
             0.2222222222222222,
             "#7201a8"
            ],
            [
             0.3333333333333333,
             "#9c179e"
            ],
            [
             0.4444444444444444,
             "#bd3786"
            ],
            [
             0.5555555555555556,
             "#d8576b"
            ],
            [
             0.6666666666666666,
             "#ed7953"
            ],
            [
             0.7777777777777778,
             "#fb9f3a"
            ],
            [
             0.8888888888888888,
             "#fdca26"
            ],
            [
             1,
             "#f0f921"
            ]
           ],
           "sequentialminus": [
            [
             0,
             "#0d0887"
            ],
            [
             0.1111111111111111,
             "#46039f"
            ],
            [
             0.2222222222222222,
             "#7201a8"
            ],
            [
             0.3333333333333333,
             "#9c179e"
            ],
            [
             0.4444444444444444,
             "#bd3786"
            ],
            [
             0.5555555555555556,
             "#d8576b"
            ],
            [
             0.6666666666666666,
             "#ed7953"
            ],
            [
             0.7777777777777778,
             "#fb9f3a"
            ],
            [
             0.8888888888888888,
             "#fdca26"
            ],
            [
             1,
             "#f0f921"
            ]
           ]
          },
          "colorway": [
           "#636efa",
           "#EF553B",
           "#00cc96",
           "#ab63fa",
           "#FFA15A",
           "#19d3f3",
           "#FF6692",
           "#B6E880",
           "#FF97FF",
           "#FECB52"
          ],
          "font": {
           "color": "#2a3f5f"
          },
          "geo": {
           "bgcolor": "white",
           "lakecolor": "white",
           "landcolor": "#E5ECF6",
           "showlakes": true,
           "showland": true,
           "subunitcolor": "white"
          },
          "hoverlabel": {
           "align": "left"
          },
          "hovermode": "closest",
          "mapbox": {
           "style": "light"
          },
          "paper_bgcolor": "white",
          "plot_bgcolor": "#E5ECF6",
          "polar": {
           "angularaxis": {
            "gridcolor": "white",
            "linecolor": "white",
            "ticks": ""
           },
           "bgcolor": "#E5ECF6",
           "radialaxis": {
            "gridcolor": "white",
            "linecolor": "white",
            "ticks": ""
           }
          },
          "scene": {
           "xaxis": {
            "backgroundcolor": "#E5ECF6",
            "gridcolor": "white",
            "gridwidth": 2,
            "linecolor": "white",
            "showbackground": true,
            "ticks": "",
            "zerolinecolor": "white"
           },
           "yaxis": {
            "backgroundcolor": "#E5ECF6",
            "gridcolor": "white",
            "gridwidth": 2,
            "linecolor": "white",
            "showbackground": true,
            "ticks": "",
            "zerolinecolor": "white"
           },
           "zaxis": {
            "backgroundcolor": "#E5ECF6",
            "gridcolor": "white",
            "gridwidth": 2,
            "linecolor": "white",
            "showbackground": true,
            "ticks": "",
            "zerolinecolor": "white"
           }
          },
          "shapedefaults": {
           "line": {
            "color": "#2a3f5f"
           }
          },
          "ternary": {
           "aaxis": {
            "gridcolor": "white",
            "linecolor": "white",
            "ticks": ""
           },
           "baxis": {
            "gridcolor": "white",
            "linecolor": "white",
            "ticks": ""
           },
           "bgcolor": "#E5ECF6",
           "caxis": {
            "gridcolor": "white",
            "linecolor": "white",
            "ticks": ""
           }
          },
          "title": {
           "x": 0.05
          },
          "xaxis": {
           "automargin": true,
           "gridcolor": "white",
           "linecolor": "white",
           "ticks": "",
           "title": {
            "standoff": 15
           },
           "zerolinecolor": "white",
           "zerolinewidth": 2
          },
          "yaxis": {
           "automargin": true,
           "gridcolor": "white",
           "linecolor": "white",
           "ticks": "",
           "title": {
            "standoff": 15
           },
           "zerolinecolor": "white",
           "zerolinewidth": 2
          }
         }
        },
        "title": {
         "text": "App Usages Distribution"
        }
       }
      }
     },
     "metadata": {},
     "output_type": "display_data"
    }
   ],
   "source": [
    "import plotly.express as px\n",
    "fig = px.pie(usg, names='appname', values='usage_time', title='App Usages Distribution',\n",
    "             hover_data={'appname': True, 'ascess_count': True},\n",
    "             color_discrete_sequence=px.colors.qualitative.Pastel)  # Using a pastel color palette\n",
    "             \n",
    "fig.update_traces(textposition='inside', textinfo='percent+label')  # Place labels inside the pie chart slices, show percentages and labels\n",
    "fig.update_layout(showlegend=True, legend_title_text='App Name', margin=dict(t=50, b=50, l=50, r=50))  # Show legend, set legend title, adjust margins\n",
    "fig.show()"
   ]
  },
  {
   "cell_type": "code",
   "execution_count": 68,
   "metadata": {},
   "outputs": [
    {
     "data": {
      "application/vnd.plotly.v1+json": {
       "config": {
        "plotlyServerURL": "https://plot.ly"
       },
       "data": [
        {
         "hovertext": [
          "ECOM",
          "ENTERTAINMENT",
          "PRODUCTIVITY",
          "SOCIALMEDIA"
         ],
         "mode": "lines+markers",
         "type": "scatter",
         "x": [
          2.155,
          0.6086111111111111,
          17.54388888888889,
          25.64277777777778
         ],
         "y": [
          236,
          94,
          1895,
          673
         ]
        }
       ],
       "layout": {
        "template": {
         "data": {
          "bar": [
           {
            "error_x": {
             "color": "#2a3f5f"
            },
            "error_y": {
             "color": "#2a3f5f"
            },
            "marker": {
             "line": {
              "color": "#E5ECF6",
              "width": 0.5
             },
             "pattern": {
              "fillmode": "overlay",
              "size": 10,
              "solidity": 0.2
             }
            },
            "type": "bar"
           }
          ],
          "barpolar": [
           {
            "marker": {
             "line": {
              "color": "#E5ECF6",
              "width": 0.5
             },
             "pattern": {
              "fillmode": "overlay",
              "size": 10,
              "solidity": 0.2
             }
            },
            "type": "barpolar"
           }
          ],
          "carpet": [
           {
            "aaxis": {
             "endlinecolor": "#2a3f5f",
             "gridcolor": "white",
             "linecolor": "white",
             "minorgridcolor": "white",
             "startlinecolor": "#2a3f5f"
            },
            "baxis": {
             "endlinecolor": "#2a3f5f",
             "gridcolor": "white",
             "linecolor": "white",
             "minorgridcolor": "white",
             "startlinecolor": "#2a3f5f"
            },
            "type": "carpet"
           }
          ],
          "choropleth": [
           {
            "colorbar": {
             "outlinewidth": 0,
             "ticks": ""
            },
            "type": "choropleth"
           }
          ],
          "contour": [
           {
            "colorbar": {
             "outlinewidth": 0,
             "ticks": ""
            },
            "colorscale": [
             [
              0,
              "#0d0887"
             ],
             [
              0.1111111111111111,
              "#46039f"
             ],
             [
              0.2222222222222222,
              "#7201a8"
             ],
             [
              0.3333333333333333,
              "#9c179e"
             ],
             [
              0.4444444444444444,
              "#bd3786"
             ],
             [
              0.5555555555555556,
              "#d8576b"
             ],
             [
              0.6666666666666666,
              "#ed7953"
             ],
             [
              0.7777777777777778,
              "#fb9f3a"
             ],
             [
              0.8888888888888888,
              "#fdca26"
             ],
             [
              1,
              "#f0f921"
             ]
            ],
            "type": "contour"
           }
          ],
          "contourcarpet": [
           {
            "colorbar": {
             "outlinewidth": 0,
             "ticks": ""
            },
            "type": "contourcarpet"
           }
          ],
          "heatmap": [
           {
            "colorbar": {
             "outlinewidth": 0,
             "ticks": ""
            },
            "colorscale": [
             [
              0,
              "#0d0887"
             ],
             [
              0.1111111111111111,
              "#46039f"
             ],
             [
              0.2222222222222222,
              "#7201a8"
             ],
             [
              0.3333333333333333,
              "#9c179e"
             ],
             [
              0.4444444444444444,
              "#bd3786"
             ],
             [
              0.5555555555555556,
              "#d8576b"
             ],
             [
              0.6666666666666666,
              "#ed7953"
             ],
             [
              0.7777777777777778,
              "#fb9f3a"
             ],
             [
              0.8888888888888888,
              "#fdca26"
             ],
             [
              1,
              "#f0f921"
             ]
            ],
            "type": "heatmap"
           }
          ],
          "heatmapgl": [
           {
            "colorbar": {
             "outlinewidth": 0,
             "ticks": ""
            },
            "colorscale": [
             [
              0,
              "#0d0887"
             ],
             [
              0.1111111111111111,
              "#46039f"
             ],
             [
              0.2222222222222222,
              "#7201a8"
             ],
             [
              0.3333333333333333,
              "#9c179e"
             ],
             [
              0.4444444444444444,
              "#bd3786"
             ],
             [
              0.5555555555555556,
              "#d8576b"
             ],
             [
              0.6666666666666666,
              "#ed7953"
             ],
             [
              0.7777777777777778,
              "#fb9f3a"
             ],
             [
              0.8888888888888888,
              "#fdca26"
             ],
             [
              1,
              "#f0f921"
             ]
            ],
            "type": "heatmapgl"
           }
          ],
          "histogram": [
           {
            "marker": {
             "pattern": {
              "fillmode": "overlay",
              "size": 10,
              "solidity": 0.2
             }
            },
            "type": "histogram"
           }
          ],
          "histogram2d": [
           {
            "colorbar": {
             "outlinewidth": 0,
             "ticks": ""
            },
            "colorscale": [
             [
              0,
              "#0d0887"
             ],
             [
              0.1111111111111111,
              "#46039f"
             ],
             [
              0.2222222222222222,
              "#7201a8"
             ],
             [
              0.3333333333333333,
              "#9c179e"
             ],
             [
              0.4444444444444444,
              "#bd3786"
             ],
             [
              0.5555555555555556,
              "#d8576b"
             ],
             [
              0.6666666666666666,
              "#ed7953"
             ],
             [
              0.7777777777777778,
              "#fb9f3a"
             ],
             [
              0.8888888888888888,
              "#fdca26"
             ],
             [
              1,
              "#f0f921"
             ]
            ],
            "type": "histogram2d"
           }
          ],
          "histogram2dcontour": [
           {
            "colorbar": {
             "outlinewidth": 0,
             "ticks": ""
            },
            "colorscale": [
             [
              0,
              "#0d0887"
             ],
             [
              0.1111111111111111,
              "#46039f"
             ],
             [
              0.2222222222222222,
              "#7201a8"
             ],
             [
              0.3333333333333333,
              "#9c179e"
             ],
             [
              0.4444444444444444,
              "#bd3786"
             ],
             [
              0.5555555555555556,
              "#d8576b"
             ],
             [
              0.6666666666666666,
              "#ed7953"
             ],
             [
              0.7777777777777778,
              "#fb9f3a"
             ],
             [
              0.8888888888888888,
              "#fdca26"
             ],
             [
              1,
              "#f0f921"
             ]
            ],
            "type": "histogram2dcontour"
           }
          ],
          "mesh3d": [
           {
            "colorbar": {
             "outlinewidth": 0,
             "ticks": ""
            },
            "type": "mesh3d"
           }
          ],
          "parcoords": [
           {
            "line": {
             "colorbar": {
              "outlinewidth": 0,
              "ticks": ""
             }
            },
            "type": "parcoords"
           }
          ],
          "pie": [
           {
            "automargin": true,
            "type": "pie"
           }
          ],
          "scatter": [
           {
            "fillpattern": {
             "fillmode": "overlay",
             "size": 10,
             "solidity": 0.2
            },
            "type": "scatter"
           }
          ],
          "scatter3d": [
           {
            "line": {
             "colorbar": {
              "outlinewidth": 0,
              "ticks": ""
             }
            },
            "marker": {
             "colorbar": {
              "outlinewidth": 0,
              "ticks": ""
             }
            },
            "type": "scatter3d"
           }
          ],
          "scattercarpet": [
           {
            "marker": {
             "colorbar": {
              "outlinewidth": 0,
              "ticks": ""
             }
            },
            "type": "scattercarpet"
           }
          ],
          "scattergeo": [
           {
            "marker": {
             "colorbar": {
              "outlinewidth": 0,
              "ticks": ""
             }
            },
            "type": "scattergeo"
           }
          ],
          "scattergl": [
           {
            "marker": {
             "colorbar": {
              "outlinewidth": 0,
              "ticks": ""
             }
            },
            "type": "scattergl"
           }
          ],
          "scattermapbox": [
           {
            "marker": {
             "colorbar": {
              "outlinewidth": 0,
              "ticks": ""
             }
            },
            "type": "scattermapbox"
           }
          ],
          "scatterpolar": [
           {
            "marker": {
             "colorbar": {
              "outlinewidth": 0,
              "ticks": ""
             }
            },
            "type": "scatterpolar"
           }
          ],
          "scatterpolargl": [
           {
            "marker": {
             "colorbar": {
              "outlinewidth": 0,
              "ticks": ""
             }
            },
            "type": "scatterpolargl"
           }
          ],
          "scatterternary": [
           {
            "marker": {
             "colorbar": {
              "outlinewidth": 0,
              "ticks": ""
             }
            },
            "type": "scatterternary"
           }
          ],
          "surface": [
           {
            "colorbar": {
             "outlinewidth": 0,
             "ticks": ""
            },
            "colorscale": [
             [
              0,
              "#0d0887"
             ],
             [
              0.1111111111111111,
              "#46039f"
             ],
             [
              0.2222222222222222,
              "#7201a8"
             ],
             [
              0.3333333333333333,
              "#9c179e"
             ],
             [
              0.4444444444444444,
              "#bd3786"
             ],
             [
              0.5555555555555556,
              "#d8576b"
             ],
             [
              0.6666666666666666,
              "#ed7953"
             ],
             [
              0.7777777777777778,
              "#fb9f3a"
             ],
             [
              0.8888888888888888,
              "#fdca26"
             ],
             [
              1,
              "#f0f921"
             ]
            ],
            "type": "surface"
           }
          ],
          "table": [
           {
            "cells": {
             "fill": {
              "color": "#EBF0F8"
             },
             "line": {
              "color": "white"
             }
            },
            "header": {
             "fill": {
              "color": "#C8D4E3"
             },
             "line": {
              "color": "white"
             }
            },
            "type": "table"
           }
          ]
         },
         "layout": {
          "annotationdefaults": {
           "arrowcolor": "#2a3f5f",
           "arrowhead": 0,
           "arrowwidth": 1
          },
          "autotypenumbers": "strict",
          "coloraxis": {
           "colorbar": {
            "outlinewidth": 0,
            "ticks": ""
           }
          },
          "colorscale": {
           "diverging": [
            [
             0,
             "#8e0152"
            ],
            [
             0.1,
             "#c51b7d"
            ],
            [
             0.2,
             "#de77ae"
            ],
            [
             0.3,
             "#f1b6da"
            ],
            [
             0.4,
             "#fde0ef"
            ],
            [
             0.5,
             "#f7f7f7"
            ],
            [
             0.6,
             "#e6f5d0"
            ],
            [
             0.7,
             "#b8e186"
            ],
            [
             0.8,
             "#7fbc41"
            ],
            [
             0.9,
             "#4d9221"
            ],
            [
             1,
             "#276419"
            ]
           ],
           "sequential": [
            [
             0,
             "#0d0887"
            ],
            [
             0.1111111111111111,
             "#46039f"
            ],
            [
             0.2222222222222222,
             "#7201a8"
            ],
            [
             0.3333333333333333,
             "#9c179e"
            ],
            [
             0.4444444444444444,
             "#bd3786"
            ],
            [
             0.5555555555555556,
             "#d8576b"
            ],
            [
             0.6666666666666666,
             "#ed7953"
            ],
            [
             0.7777777777777778,
             "#fb9f3a"
            ],
            [
             0.8888888888888888,
             "#fdca26"
            ],
            [
             1,
             "#f0f921"
            ]
           ],
           "sequentialminus": [
            [
             0,
             "#0d0887"
            ],
            [
             0.1111111111111111,
             "#46039f"
            ],
            [
             0.2222222222222222,
             "#7201a8"
            ],
            [
             0.3333333333333333,
             "#9c179e"
            ],
            [
             0.4444444444444444,
             "#bd3786"
            ],
            [
             0.5555555555555556,
             "#d8576b"
            ],
            [
             0.6666666666666666,
             "#ed7953"
            ],
            [
             0.7777777777777778,
             "#fb9f3a"
            ],
            [
             0.8888888888888888,
             "#fdca26"
            ],
            [
             1,
             "#f0f921"
            ]
           ]
          },
          "colorway": [
           "#636efa",
           "#EF553B",
           "#00cc96",
           "#ab63fa",
           "#FFA15A",
           "#19d3f3",
           "#FF6692",
           "#B6E880",
           "#FF97FF",
           "#FECB52"
          ],
          "font": {
           "color": "#2a3f5f"
          },
          "geo": {
           "bgcolor": "white",
           "lakecolor": "white",
           "landcolor": "#E5ECF6",
           "showlakes": true,
           "showland": true,
           "subunitcolor": "white"
          },
          "hoverlabel": {
           "align": "left"
          },
          "hovermode": "closest",
          "mapbox": {
           "style": "light"
          },
          "paper_bgcolor": "white",
          "plot_bgcolor": "#E5ECF6",
          "polar": {
           "angularaxis": {
            "gridcolor": "white",
            "linecolor": "white",
            "ticks": ""
           },
           "bgcolor": "#E5ECF6",
           "radialaxis": {
            "gridcolor": "white",
            "linecolor": "white",
            "ticks": ""
           }
          },
          "scene": {
           "xaxis": {
            "backgroundcolor": "#E5ECF6",
            "gridcolor": "white",
            "gridwidth": 2,
            "linecolor": "white",
            "showbackground": true,
            "ticks": "",
            "zerolinecolor": "white"
           },
           "yaxis": {
            "backgroundcolor": "#E5ECF6",
            "gridcolor": "white",
            "gridwidth": 2,
            "linecolor": "white",
            "showbackground": true,
            "ticks": "",
            "zerolinecolor": "white"
           },
           "zaxis": {
            "backgroundcolor": "#E5ECF6",
            "gridcolor": "white",
            "gridwidth": 2,
            "linecolor": "white",
            "showbackground": true,
            "ticks": "",
            "zerolinecolor": "white"
           }
          },
          "shapedefaults": {
           "line": {
            "color": "#2a3f5f"
           }
          },
          "ternary": {
           "aaxis": {
            "gridcolor": "white",
            "linecolor": "white",
            "ticks": ""
           },
           "baxis": {
            "gridcolor": "white",
            "linecolor": "white",
            "ticks": ""
           },
           "bgcolor": "#E5ECF6",
           "caxis": {
            "gridcolor": "white",
            "linecolor": "white",
            "ticks": ""
           }
          },
          "title": {
           "x": 0.05
          },
          "xaxis": {
           "automargin": true,
           "gridcolor": "white",
           "linecolor": "white",
           "ticks": "",
           "title": {
            "standoff": 15
           },
           "zerolinecolor": "white",
           "zerolinewidth": 2
          },
          "yaxis": {
           "automargin": true,
           "gridcolor": "white",
           "linecolor": "white",
           "ticks": "",
           "title": {
            "standoff": 15
           },
           "zerolinecolor": "white",
           "zerolinewidth": 2
          }
         }
        },
        "title": {
         "text": "App Access Count"
        },
        "xaxis": {
         "title": {
          "text": "TIME SPENT"
         },
         "type": "category"
        },
        "yaxis": {
         "title": {
          "text": "Access Count"
         }
        }
       }
      }
     },
     "metadata": {},
     "output_type": "display_data"
    }
   ],
   "source": [
    "fig = go.Figure(data=go.Scatter(x=usg['usage_time']/3600, y=usg['ascess_count'], mode='lines+markers',hovertext=usg['appname']))\n",
    "fig.update_layout(title='App Access Count', xaxis_title='TIME SPENT', yaxis_title='Access Count')\n",
    "fig.update_xaxes(type='category')  # Ensure 'appname' is treated as categorical data\n",
    "fig.show()"
   ]
  },
  {
   "cell_type": "code",
   "execution_count": 65,
   "metadata": {},
   "outputs": [],
   "source": [
    "#data is from 18/3 to 8/3\n",
    "usg1 = pd.read_csv('usages.csv')\n",
    "usg1.rename(columns={'Usage time':'usage_time','Access count':'ascess_count','App name':'appname'},inplace=True)\n",
    "usg1['usage_time'] = pd.to_timedelta(usg1['usage_time'])\n",
    "usg1['usage_time'] = usg1['usage_time'].dt.total_seconds()"
   ]
  },
  {
   "cell_type": "code",
   "execution_count": 66,
   "metadata": {},
   "outputs": [
    {
     "data": {
      "application/vnd.plotly.v1+json": {
       "config": {
        "plotlyServerURL": "https://plot.ly"
       },
       "data": [
        {
         "mode": "lines+markers",
         "type": "scatter",
         "x": [
          "Instagram",
          "Call",
          "YouTube",
          "WhatsApp",
          "Snapchat",
          "Maps",
          "Chrome",
          "Phone",
          "Flipkart",
          "PhonePe",
          "Spotify",
          "GPay",
          "Messages",
          "Clock",
          "Swiggy",
          "Google Play Store",
          "Camera",
          "Gallery",
          "Photos",
          "Calculator",
          "Finder",
          "Truecaller",
          "BOI Mobile",
          "Drive",
          "Launcher",
          "Amazon",
          "Software update",
          "Calendar",
          "SecSoundPicker",
          "Mahalaxmi",
          "Package installer",
          "NextGen mParivahan",
          "Slack",
          "Google",
          "YONO SBI",
          "Digilocker",
          "Gmail",
          "Digital Wellbeing",
          "BOI Mobile",
          "Samsung capture",
          "MX Player",
          "Weather",
          "वारणा शेतकरी",
          "Permission controller",
          "Separate app sound",
          "pod.ai",
          "App Usage",
          "Files",
          "My Files",
          "Contacts",
          "Sound quality and effects",
          "Android Auto",
          "Print Spooler",
          "Gboard",
          "Telegram",
          "Portrait",
          "Media picker",
          "CarInfo",
          "Phone calls",
          "Authenticator"
         ],
         "y": [
          353,
          549,
          125,
          469,
          195,
          90,
          104,
          658,
          30,
          161,
          92,
          26,
          25,
          28,
          14,
          24,
          27,
          23,
          7,
          23,
          3,
          78,
          6,
          12,
          63,
          5,
          7,
          9,
          2,
          1,
          12,
          2,
          4,
          13,
          2,
          3,
          9,
          1,
          4,
          7,
          2,
          7,
          2,
          20,
          1,
          3,
          2,
          2,
          4,
          2,
          1,
          2,
          1,
          1,
          1,
          2,
          1,
          1,
          1,
          1
         ]
        }
       ],
       "layout": {
        "template": {
         "data": {
          "bar": [
           {
            "error_x": {
             "color": "#2a3f5f"
            },
            "error_y": {
             "color": "#2a3f5f"
            },
            "marker": {
             "line": {
              "color": "#E5ECF6",
              "width": 0.5
             },
             "pattern": {
              "fillmode": "overlay",
              "size": 10,
              "solidity": 0.2
             }
            },
            "type": "bar"
           }
          ],
          "barpolar": [
           {
            "marker": {
             "line": {
              "color": "#E5ECF6",
              "width": 0.5
             },
             "pattern": {
              "fillmode": "overlay",
              "size": 10,
              "solidity": 0.2
             }
            },
            "type": "barpolar"
           }
          ],
          "carpet": [
           {
            "aaxis": {
             "endlinecolor": "#2a3f5f",
             "gridcolor": "white",
             "linecolor": "white",
             "minorgridcolor": "white",
             "startlinecolor": "#2a3f5f"
            },
            "baxis": {
             "endlinecolor": "#2a3f5f",
             "gridcolor": "white",
             "linecolor": "white",
             "minorgridcolor": "white",
             "startlinecolor": "#2a3f5f"
            },
            "type": "carpet"
           }
          ],
          "choropleth": [
           {
            "colorbar": {
             "outlinewidth": 0,
             "ticks": ""
            },
            "type": "choropleth"
           }
          ],
          "contour": [
           {
            "colorbar": {
             "outlinewidth": 0,
             "ticks": ""
            },
            "colorscale": [
             [
              0,
              "#0d0887"
             ],
             [
              0.1111111111111111,
              "#46039f"
             ],
             [
              0.2222222222222222,
              "#7201a8"
             ],
             [
              0.3333333333333333,
              "#9c179e"
             ],
             [
              0.4444444444444444,
              "#bd3786"
             ],
             [
              0.5555555555555556,
              "#d8576b"
             ],
             [
              0.6666666666666666,
              "#ed7953"
             ],
             [
              0.7777777777777778,
              "#fb9f3a"
             ],
             [
              0.8888888888888888,
              "#fdca26"
             ],
             [
              1,
              "#f0f921"
             ]
            ],
            "type": "contour"
           }
          ],
          "contourcarpet": [
           {
            "colorbar": {
             "outlinewidth": 0,
             "ticks": ""
            },
            "type": "contourcarpet"
           }
          ],
          "heatmap": [
           {
            "colorbar": {
             "outlinewidth": 0,
             "ticks": ""
            },
            "colorscale": [
             [
              0,
              "#0d0887"
             ],
             [
              0.1111111111111111,
              "#46039f"
             ],
             [
              0.2222222222222222,
              "#7201a8"
             ],
             [
              0.3333333333333333,
              "#9c179e"
             ],
             [
              0.4444444444444444,
              "#bd3786"
             ],
             [
              0.5555555555555556,
              "#d8576b"
             ],
             [
              0.6666666666666666,
              "#ed7953"
             ],
             [
              0.7777777777777778,
              "#fb9f3a"
             ],
             [
              0.8888888888888888,
              "#fdca26"
             ],
             [
              1,
              "#f0f921"
             ]
            ],
            "type": "heatmap"
           }
          ],
          "heatmapgl": [
           {
            "colorbar": {
             "outlinewidth": 0,
             "ticks": ""
            },
            "colorscale": [
             [
              0,
              "#0d0887"
             ],
             [
              0.1111111111111111,
              "#46039f"
             ],
             [
              0.2222222222222222,
              "#7201a8"
             ],
             [
              0.3333333333333333,
              "#9c179e"
             ],
             [
              0.4444444444444444,
              "#bd3786"
             ],
             [
              0.5555555555555556,
              "#d8576b"
             ],
             [
              0.6666666666666666,
              "#ed7953"
             ],
             [
              0.7777777777777778,
              "#fb9f3a"
             ],
             [
              0.8888888888888888,
              "#fdca26"
             ],
             [
              1,
              "#f0f921"
             ]
            ],
            "type": "heatmapgl"
           }
          ],
          "histogram": [
           {
            "marker": {
             "pattern": {
              "fillmode": "overlay",
              "size": 10,
              "solidity": 0.2
             }
            },
            "type": "histogram"
           }
          ],
          "histogram2d": [
           {
            "colorbar": {
             "outlinewidth": 0,
             "ticks": ""
            },
            "colorscale": [
             [
              0,
              "#0d0887"
             ],
             [
              0.1111111111111111,
              "#46039f"
             ],
             [
              0.2222222222222222,
              "#7201a8"
             ],
             [
              0.3333333333333333,
              "#9c179e"
             ],
             [
              0.4444444444444444,
              "#bd3786"
             ],
             [
              0.5555555555555556,
              "#d8576b"
             ],
             [
              0.6666666666666666,
              "#ed7953"
             ],
             [
              0.7777777777777778,
              "#fb9f3a"
             ],
             [
              0.8888888888888888,
              "#fdca26"
             ],
             [
              1,
              "#f0f921"
             ]
            ],
            "type": "histogram2d"
           }
          ],
          "histogram2dcontour": [
           {
            "colorbar": {
             "outlinewidth": 0,
             "ticks": ""
            },
            "colorscale": [
             [
              0,
              "#0d0887"
             ],
             [
              0.1111111111111111,
              "#46039f"
             ],
             [
              0.2222222222222222,
              "#7201a8"
             ],
             [
              0.3333333333333333,
              "#9c179e"
             ],
             [
              0.4444444444444444,
              "#bd3786"
             ],
             [
              0.5555555555555556,
              "#d8576b"
             ],
             [
              0.6666666666666666,
              "#ed7953"
             ],
             [
              0.7777777777777778,
              "#fb9f3a"
             ],
             [
              0.8888888888888888,
              "#fdca26"
             ],
             [
              1,
              "#f0f921"
             ]
            ],
            "type": "histogram2dcontour"
           }
          ],
          "mesh3d": [
           {
            "colorbar": {
             "outlinewidth": 0,
             "ticks": ""
            },
            "type": "mesh3d"
           }
          ],
          "parcoords": [
           {
            "line": {
             "colorbar": {
              "outlinewidth": 0,
              "ticks": ""
             }
            },
            "type": "parcoords"
           }
          ],
          "pie": [
           {
            "automargin": true,
            "type": "pie"
           }
          ],
          "scatter": [
           {
            "fillpattern": {
             "fillmode": "overlay",
             "size": 10,
             "solidity": 0.2
            },
            "type": "scatter"
           }
          ],
          "scatter3d": [
           {
            "line": {
             "colorbar": {
              "outlinewidth": 0,
              "ticks": ""
             }
            },
            "marker": {
             "colorbar": {
              "outlinewidth": 0,
              "ticks": ""
             }
            },
            "type": "scatter3d"
           }
          ],
          "scattercarpet": [
           {
            "marker": {
             "colorbar": {
              "outlinewidth": 0,
              "ticks": ""
             }
            },
            "type": "scattercarpet"
           }
          ],
          "scattergeo": [
           {
            "marker": {
             "colorbar": {
              "outlinewidth": 0,
              "ticks": ""
             }
            },
            "type": "scattergeo"
           }
          ],
          "scattergl": [
           {
            "marker": {
             "colorbar": {
              "outlinewidth": 0,
              "ticks": ""
             }
            },
            "type": "scattergl"
           }
          ],
          "scattermapbox": [
           {
            "marker": {
             "colorbar": {
              "outlinewidth": 0,
              "ticks": ""
             }
            },
            "type": "scattermapbox"
           }
          ],
          "scatterpolar": [
           {
            "marker": {
             "colorbar": {
              "outlinewidth": 0,
              "ticks": ""
             }
            },
            "type": "scatterpolar"
           }
          ],
          "scatterpolargl": [
           {
            "marker": {
             "colorbar": {
              "outlinewidth": 0,
              "ticks": ""
             }
            },
            "type": "scatterpolargl"
           }
          ],
          "scatterternary": [
           {
            "marker": {
             "colorbar": {
              "outlinewidth": 0,
              "ticks": ""
             }
            },
            "type": "scatterternary"
           }
          ],
          "surface": [
           {
            "colorbar": {
             "outlinewidth": 0,
             "ticks": ""
            },
            "colorscale": [
             [
              0,
              "#0d0887"
             ],
             [
              0.1111111111111111,
              "#46039f"
             ],
             [
              0.2222222222222222,
              "#7201a8"
             ],
             [
              0.3333333333333333,
              "#9c179e"
             ],
             [
              0.4444444444444444,
              "#bd3786"
             ],
             [
              0.5555555555555556,
              "#d8576b"
             ],
             [
              0.6666666666666666,
              "#ed7953"
             ],
             [
              0.7777777777777778,
              "#fb9f3a"
             ],
             [
              0.8888888888888888,
              "#fdca26"
             ],
             [
              1,
              "#f0f921"
             ]
            ],
            "type": "surface"
           }
          ],
          "table": [
           {
            "cells": {
             "fill": {
              "color": "#EBF0F8"
             },
             "line": {
              "color": "white"
             }
            },
            "header": {
             "fill": {
              "color": "#C8D4E3"
             },
             "line": {
              "color": "white"
             }
            },
            "type": "table"
           }
          ]
         },
         "layout": {
          "annotationdefaults": {
           "arrowcolor": "#2a3f5f",
           "arrowhead": 0,
           "arrowwidth": 1
          },
          "autotypenumbers": "strict",
          "coloraxis": {
           "colorbar": {
            "outlinewidth": 0,
            "ticks": ""
           }
          },
          "colorscale": {
           "diverging": [
            [
             0,
             "#8e0152"
            ],
            [
             0.1,
             "#c51b7d"
            ],
            [
             0.2,
             "#de77ae"
            ],
            [
             0.3,
             "#f1b6da"
            ],
            [
             0.4,
             "#fde0ef"
            ],
            [
             0.5,
             "#f7f7f7"
            ],
            [
             0.6,
             "#e6f5d0"
            ],
            [
             0.7,
             "#b8e186"
            ],
            [
             0.8,
             "#7fbc41"
            ],
            [
             0.9,
             "#4d9221"
            ],
            [
             1,
             "#276419"
            ]
           ],
           "sequential": [
            [
             0,
             "#0d0887"
            ],
            [
             0.1111111111111111,
             "#46039f"
            ],
            [
             0.2222222222222222,
             "#7201a8"
            ],
            [
             0.3333333333333333,
             "#9c179e"
            ],
            [
             0.4444444444444444,
             "#bd3786"
            ],
            [
             0.5555555555555556,
             "#d8576b"
            ],
            [
             0.6666666666666666,
             "#ed7953"
            ],
            [
             0.7777777777777778,
             "#fb9f3a"
            ],
            [
             0.8888888888888888,
             "#fdca26"
            ],
            [
             1,
             "#f0f921"
            ]
           ],
           "sequentialminus": [
            [
             0,
             "#0d0887"
            ],
            [
             0.1111111111111111,
             "#46039f"
            ],
            [
             0.2222222222222222,
             "#7201a8"
            ],
            [
             0.3333333333333333,
             "#9c179e"
            ],
            [
             0.4444444444444444,
             "#bd3786"
            ],
            [
             0.5555555555555556,
             "#d8576b"
            ],
            [
             0.6666666666666666,
             "#ed7953"
            ],
            [
             0.7777777777777778,
             "#fb9f3a"
            ],
            [
             0.8888888888888888,
             "#fdca26"
            ],
            [
             1,
             "#f0f921"
            ]
           ]
          },
          "colorway": [
           "#636efa",
           "#EF553B",
           "#00cc96",
           "#ab63fa",
           "#FFA15A",
           "#19d3f3",
           "#FF6692",
           "#B6E880",
           "#FF97FF",
           "#FECB52"
          ],
          "font": {
           "color": "#2a3f5f"
          },
          "geo": {
           "bgcolor": "white",
           "lakecolor": "white",
           "landcolor": "#E5ECF6",
           "showlakes": true,
           "showland": true,
           "subunitcolor": "white"
          },
          "hoverlabel": {
           "align": "left"
          },
          "hovermode": "closest",
          "mapbox": {
           "style": "light"
          },
          "paper_bgcolor": "white",
          "plot_bgcolor": "#E5ECF6",
          "polar": {
           "angularaxis": {
            "gridcolor": "white",
            "linecolor": "white",
            "ticks": ""
           },
           "bgcolor": "#E5ECF6",
           "radialaxis": {
            "gridcolor": "white",
            "linecolor": "white",
            "ticks": ""
           }
          },
          "scene": {
           "xaxis": {
            "backgroundcolor": "#E5ECF6",
            "gridcolor": "white",
            "gridwidth": 2,
            "linecolor": "white",
            "showbackground": true,
            "ticks": "",
            "zerolinecolor": "white"
           },
           "yaxis": {
            "backgroundcolor": "#E5ECF6",
            "gridcolor": "white",
            "gridwidth": 2,
            "linecolor": "white",
            "showbackground": true,
            "ticks": "",
            "zerolinecolor": "white"
           },
           "zaxis": {
            "backgroundcolor": "#E5ECF6",
            "gridcolor": "white",
            "gridwidth": 2,
            "linecolor": "white",
            "showbackground": true,
            "ticks": "",
            "zerolinecolor": "white"
           }
          },
          "shapedefaults": {
           "line": {
            "color": "#2a3f5f"
           }
          },
          "ternary": {
           "aaxis": {
            "gridcolor": "white",
            "linecolor": "white",
            "ticks": ""
           },
           "baxis": {
            "gridcolor": "white",
            "linecolor": "white",
            "ticks": ""
           },
           "bgcolor": "#E5ECF6",
           "caxis": {
            "gridcolor": "white",
            "linecolor": "white",
            "ticks": ""
           }
          },
          "title": {
           "x": 0.05
          },
          "xaxis": {
           "automargin": true,
           "gridcolor": "white",
           "linecolor": "white",
           "ticks": "",
           "title": {
            "standoff": 15
           },
           "zerolinecolor": "white",
           "zerolinewidth": 2
          },
          "yaxis": {
           "automargin": true,
           "gridcolor": "white",
           "linecolor": "white",
           "ticks": "",
           "title": {
            "standoff": 15
           },
           "zerolinecolor": "white",
           "zerolinewidth": 2
          }
         }
        },
        "title": {
         "text": "App Access Count"
        },
        "xaxis": {
         "title": {
          "text": "App Name"
         },
         "type": "category"
        },
        "yaxis": {
         "title": {
          "text": "Access Count"
         }
        }
       }
      }
     },
     "metadata": {},
     "output_type": "display_data"
    }
   ],
   "source": [
    "import plotly.graph_objects as go\n",
    "\n",
    "fig = go.Figure(data=go.Scatter(x=usg1['appname'], y=usg1['ascess_count'], mode='lines+markers'))\n",
    "fig.update_layout(title='App Access Count', xaxis_title='App Name', yaxis_title='Access Count')\n",
    "fig.update_xaxes(type='category')  # Ensure 'appname' is treated as categorical data\n",
    "fig.show()\n"
   ]
  }
 ],
 "metadata": {
  "kernelspec": {
   "display_name": "tenserflow_env",
   "language": "python",
   "name": "python3"
  },
  "language_info": {
   "codemirror_mode": {
    "name": "ipython",
    "version": 3
   },
   "file_extension": ".py",
   "mimetype": "text/x-python",
   "name": "python",
   "nbconvert_exporter": "python",
   "pygments_lexer": "ipython3",
   "version": "3.9.7"
  }
 },
 "nbformat": 4,
 "nbformat_minor": 2
}
